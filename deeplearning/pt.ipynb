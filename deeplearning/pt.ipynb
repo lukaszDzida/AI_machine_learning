{
 "cells": [
  {
   "cell_type": "code",
   "execution_count": 1,
   "id": "580f873d-5a5f-4cdf-a740-0c256dfad61e",
   "metadata": {},
   "outputs": [
    {
     "name": "stdout",
     "output_type": "stream",
     "text": [
      "Requirement already satisfied: azureml-core in /anaconda/envs/azureml_py38_PT_TF/lib/python3.10/site-packages (1.60.0.post1)\n",
      "Requirement already satisfied: pytz in /anaconda/envs/azureml_py38_PT_TF/lib/python3.10/site-packages (from azureml-core) (2025.2)\n",
      "Requirement already satisfied: backports.tempfile in /anaconda/envs/azureml_py38_PT_TF/lib/python3.10/site-packages (from azureml-core) (1.0)\n",
      "Requirement already satisfied: pathspec<1.0.0 in /anaconda/envs/azureml_py38_PT_TF/lib/python3.10/site-packages (from azureml-core) (0.12.1)\n",
      "Requirement already satisfied: requests<3.0.0,>=2.19.1 in /anaconda/envs/azureml_py38_PT_TF/lib/python3.10/site-packages (from requests[socks]<3.0.0,>=2.19.1->azureml-core) (2.32.4)\n",
      "Requirement already satisfied: msal<2.0.0,>=1.15.0 in /anaconda/envs/azureml_py38_PT_TF/lib/python3.10/site-packages (from azureml-core) (1.32.3)\n",
      "Requirement already satisfied: msal-extensions<=2.0.0,>=0.3.0 in /anaconda/envs/azureml_py38_PT_TF/lib/python3.10/site-packages (from azureml-core) (1.3.1)\n",
      "Requirement already satisfied: knack<0.13.0 in /anaconda/envs/azureml_py38_PT_TF/lib/python3.10/site-packages (from azureml-core) (0.12.0)\n",
      "Requirement already satisfied: azure-core<2.0.0 in /anaconda/envs/azureml_py38_PT_TF/lib/python3.10/site-packages (from azureml-core) (1.35.0)\n",
      "Requirement already satisfied: pkginfo in /anaconda/envs/azureml_py38_PT_TF/lib/python3.10/site-packages (from azureml-core) (1.12.1.2)\n",
      "Requirement already satisfied: argcomplete<4 in /anaconda/envs/azureml_py38_PT_TF/lib/python3.10/site-packages (from azureml-core) (3.6.2)\n",
      "Requirement already satisfied: humanfriendly<11.0,>=4.7 in /anaconda/envs/azureml_py38_PT_TF/lib/python3.10/site-packages (from azureml-core) (10.0)\n",
      "Requirement already satisfied: paramiko<4.0.0,>=2.0.8 in /anaconda/envs/azureml_py38_PT_TF/lib/python3.10/site-packages (from azureml-core) (3.5.1)\n",
      "Requirement already satisfied: azure-mgmt-resource<=24.0.0,>=15.0.0 in /anaconda/envs/azureml_py38_PT_TF/lib/python3.10/site-packages (from azureml-core) (24.0.0)\n",
      "Requirement already satisfied: azure-mgmt-containerregistry<14,>=8.2.0 in /anaconda/envs/azureml_py38_PT_TF/lib/python3.10/site-packages (from azureml-core) (13.0.0)\n",
      "Requirement already satisfied: azure-mgmt-storage<=23.0.0,>=16.0.0 in /anaconda/envs/azureml_py38_PT_TF/lib/python3.10/site-packages (from azureml-core) (23.0.0)\n",
      "Requirement already satisfied: azure-mgmt-keyvault<12.0.0,>=0.40.0 in /anaconda/envs/azureml_py38_PT_TF/lib/python3.10/site-packages (from azureml-core) (11.0.0)\n",
      "Requirement already satisfied: azure-mgmt-authorization<5,>=0.40.0 in /anaconda/envs/azureml_py38_PT_TF/lib/python3.10/site-packages (from azureml-core) (4.0.0)\n",
      "Requirement already satisfied: azure-mgmt-network<=29.0.0 in /anaconda/envs/azureml_py38_PT_TF/lib/python3.10/site-packages (from azureml-core) (29.0.0)\n",
      "Requirement already satisfied: azure-graphrbac<1.0.0,>=0.40.0 in /anaconda/envs/azureml_py38_PT_TF/lib/python3.10/site-packages (from azureml-core) (0.61.2)\n",
      "Requirement already satisfied: azure-common<2.0.0,>=1.1.12 in /anaconda/envs/azureml_py38_PT_TF/lib/python3.10/site-packages (from azureml-core) (1.1.28)\n",
      "Requirement already satisfied: msrest<=0.7.1,>=0.5.1 in /anaconda/envs/azureml_py38_PT_TF/lib/python3.10/site-packages (from azureml-core) (0.7.1)\n",
      "Requirement already satisfied: msrestazure<=0.7,>=0.4.33 in /anaconda/envs/azureml_py38_PT_TF/lib/python3.10/site-packages (from azureml-core) (0.6.4.post1)\n",
      "Requirement already satisfied: urllib3<3.0.0,>1.26.17 in /anaconda/envs/azureml_py38_PT_TF/lib/python3.10/site-packages (from azureml-core) (2.5.0)\n",
      "Requirement already satisfied: packaging<26.0,>=20.0 in /anaconda/envs/azureml_py38_PT_TF/lib/python3.10/site-packages (from azureml-core) (24.2)\n",
      "Requirement already satisfied: python-dateutil<3.0.0,>=2.7.3 in /anaconda/envs/azureml_py38_PT_TF/lib/python3.10/site-packages (from azureml-core) (2.9.0.post0)\n",
      "Requirement already satisfied: ndg-httpsclient<=0.5.1 in /anaconda/envs/azureml_py38_PT_TF/lib/python3.10/site-packages (from azureml-core) (0.5.1)\n",
      "Requirement already satisfied: SecretStorage<4.0.0 in /anaconda/envs/azureml_py38_PT_TF/lib/python3.10/site-packages (from azureml-core) (3.3.3)\n",
      "Requirement already satisfied: jsonpickle<5.0.0 in /anaconda/envs/azureml_py38_PT_TF/lib/python3.10/site-packages (from azureml-core) (4.1.1)\n",
      "Requirement already satisfied: contextlib2<22.0.0 in /anaconda/envs/azureml_py38_PT_TF/lib/python3.10/site-packages (from azureml-core) (21.6.0)\n",
      "Requirement already satisfied: docker<8.0.0 in /anaconda/envs/azureml_py38_PT_TF/lib/python3.10/site-packages (from azureml-core) (7.1.0)\n",
      "Requirement already satisfied: PyJWT<3.0.0 in /anaconda/envs/azureml_py38_PT_TF/lib/python3.10/site-packages (from azureml-core) (2.10.1)\n",
      "Requirement already satisfied: adal<=1.2.7,>=1.2.0 in /anaconda/envs/azureml_py38_PT_TF/lib/python3.10/site-packages (from azureml-core) (1.2.7)\n",
      "Requirement already satisfied: pyopenssl<26.0.0 in /anaconda/envs/azureml_py38_PT_TF/lib/python3.10/site-packages (from azureml-core) (25.1.0)\n",
      "Requirement already satisfied: jmespath<2.0.0 in /anaconda/envs/azureml_py38_PT_TF/lib/python3.10/site-packages (from azureml-core) (1.0.1)\n",
      "Requirement already satisfied: cryptography>=1.1.0 in /anaconda/envs/azureml_py38_PT_TF/lib/python3.10/site-packages (from adal<=1.2.7,>=1.2.0->azureml-core) (45.0.5)\n",
      "Requirement already satisfied: six>=1.11.0 in /anaconda/envs/azureml_py38_PT_TF/lib/python3.10/site-packages (from azure-core<2.0.0->azureml-core) (1.17.0)\n",
      "Requirement already satisfied: typing-extensions>=4.6.0 in /anaconda/envs/azureml_py38_PT_TF/lib/python3.10/site-packages (from azure-core<2.0.0->azureml-core) (4.14.1)\n",
      "Requirement already satisfied: isodate<1.0.0,>=0.6.1 in /anaconda/envs/azureml_py38_PT_TF/lib/python3.10/site-packages (from azure-mgmt-authorization<5,>=0.40.0->azureml-core) (0.7.2)\n",
      "Requirement already satisfied: azure-mgmt-core<2.0.0,>=1.3.2 in /anaconda/envs/azureml_py38_PT_TF/lib/python3.10/site-packages (from azure-mgmt-authorization<5,>=0.40.0->azureml-core) (1.6.0)\n",
      "Requirement already satisfied: pygments in /anaconda/envs/azureml_py38_PT_TF/lib/python3.10/site-packages (from knack<0.13.0->azureml-core) (2.19.2)\n",
      "Requirement already satisfied: pyyaml in /anaconda/envs/azureml_py38_PT_TF/lib/python3.10/site-packages (from knack<0.13.0->azureml-core) (6.0.2)\n",
      "Requirement already satisfied: tabulate in /anaconda/envs/azureml_py38_PT_TF/lib/python3.10/site-packages (from knack<0.13.0->azureml-core) (0.9.0)\n",
      "Requirement already satisfied: cffi>=1.14 in /anaconda/envs/azureml_py38_PT_TF/lib/python3.10/site-packages (from cryptography>=1.1.0->adal<=1.2.7,>=1.2.0->azureml-core) (1.17.1)\n",
      "Requirement already satisfied: certifi>=2017.4.17 in /anaconda/envs/azureml_py38_PT_TF/lib/python3.10/site-packages (from msrest<=0.7.1,>=0.5.1->azureml-core) (2025.7.9)\n",
      "Requirement already satisfied: requests-oauthlib>=0.5.0 in /anaconda/envs/azureml_py38_PT_TF/lib/python3.10/site-packages (from msrest<=0.7.1,>=0.5.1->azureml-core) (2.0.0)\n",
      "Requirement already satisfied: pyasn1>=0.1.1 in /anaconda/envs/azureml_py38_PT_TF/lib/python3.10/site-packages (from ndg-httpsclient<=0.5.1->azureml-core) (0.6.1)\n",
      "Requirement already satisfied: bcrypt>=3.2 in /anaconda/envs/azureml_py38_PT_TF/lib/python3.10/site-packages (from paramiko<4.0.0,>=2.0.8->azureml-core) (4.3.0)\n",
      "Requirement already satisfied: pynacl>=1.5 in /anaconda/envs/azureml_py38_PT_TF/lib/python3.10/site-packages (from paramiko<4.0.0,>=2.0.8->azureml-core) (1.5.0)\n",
      "Requirement already satisfied: charset_normalizer<4,>=2 in /anaconda/envs/azureml_py38_PT_TF/lib/python3.10/site-packages (from requests<3.0.0,>=2.19.1->requests[socks]<3.0.0,>=2.19.1->azureml-core) (3.4.2)\n",
      "Requirement already satisfied: idna<4,>=2.5 in /anaconda/envs/azureml_py38_PT_TF/lib/python3.10/site-packages (from requests<3.0.0,>=2.19.1->requests[socks]<3.0.0,>=2.19.1->azureml-core) (3.10)\n",
      "Requirement already satisfied: PySocks!=1.5.7,>=1.5.6 in /anaconda/envs/azureml_py38_PT_TF/lib/python3.10/site-packages (from requests[socks]<3.0.0,>=2.19.1->azureml-core) (1.7.1)\n",
      "Requirement already satisfied: jeepney>=0.6 in /anaconda/envs/azureml_py38_PT_TF/lib/python3.10/site-packages (from SecretStorage<4.0.0->azureml-core) (0.9.0)\n",
      "Requirement already satisfied: pycparser in /anaconda/envs/azureml_py38_PT_TF/lib/python3.10/site-packages (from cffi>=1.14->cryptography>=1.1.0->adal<=1.2.7,>=1.2.0->azureml-core) (2.22)\n",
      "Requirement already satisfied: oauthlib>=3.0.0 in /anaconda/envs/azureml_py38_PT_TF/lib/python3.10/site-packages (from requests-oauthlib>=0.5.0->msrest<=0.7.1,>=0.5.1->azureml-core) (3.3.1)\n",
      "Requirement already satisfied: backports.weakref in /anaconda/envs/azureml_py38_PT_TF/lib/python3.10/site-packages (from backports.tempfile->azureml-core) (1.0.post1)\n",
      "Note: you may need to restart the kernel to use updated packages.\n"
     ]
    }
   ],
   "source": [
    "pip install azureml-core # Install the Azure Machine Learning SDK"
   ]
  },
  {
   "cell_type": "code",
   "execution_count": 2,
   "id": "02120026-8c40-43a6-bb06-0f9b616396f1",
   "metadata": {},
   "outputs": [],
   "source": [
    "from azureml.core import Workspace"
   ]
  },
  {
   "cell_type": "code",
   "execution_count": 5,
   "id": "5019e00b-b3ca-4a0e-a634-c3305e069391",
   "metadata": {},
   "outputs": [
    {
     "name": "stdout",
     "output_type": "stream",
     "text": [
      "Deploying Workspace with name myworkspace.\n",
      "Deploying AppInsights with name myworkspinsights8e729f5e.\n",
      "Deployed AppInsights with name myworkspinsights8e729f5e. Took 31.58 seconds.\n",
      "Deployed Workspace with name myworkspace. Took 17.81 seconds.\n"
     ]
    }
   ],
   "source": [
    "# Create or retrieve an existing Azure ML workspace\n",
    "#ws = Workspace.get(name='myworkspace', subscription_id='your-subscription-id',resource_group='myresourcegroup',location='eastus')\n",
    "\n",
    "ws = Workspace.create(name='myworkspace',\n",
    "                      subscription_id='d69afe05-1aa6-4223-b92b-75731300941e',\n",
    "                      resource_group='lukasz.dzida-rg',\n",
    "                      location='eastus')\n",
    "\n",
    "# Write configuration to the workspace config file\n",
    "ws.write_config(path='.azureml')"
   ]
  },
  {
   "cell_type": "code",
   "execution_count": 6,
   "id": "3173dbe8-3625-4a32-825f-c20146ac57ed",
   "metadata": {},
   "outputs": [],
   "source": [
    "import torch\n",
    "import torch.nn as nn\n",
    "import torch.optim as optim\n",
    "\n",
    "# Define a simple neural network with one hidden layer\n",
    "class SimpleNN(nn.Module):\n",
    "    def __init__(self):\n",
    "        super(SimpleNN, self).__init__()\n",
    "        self.fc1 = nn.Linear(784, 128)  # Input layer (784 input features)\n",
    "        self.fc2 = nn.Linear(128, 10)   # Output layer (10 classes)\n",
    "        self.relu = nn.ReLU()           # Activation function\n",
    "\n",
    "    def forward(self, x):\n",
    "        x = self.relu(self.fc1(x))  # Apply ReLU after the first layer\n",
    "        x = self.fc2(x)             # Output layer\n",
    "        return x\n",
    "\n",
    "# Initialize the neural network\n",
    "model = SimpleNN()\n",
    "\n",
    "# Define loss function and optimizer\n",
    "criterion = nn.CrossEntropyLoss()  # For classification tasks\n",
    "optimizer = optim.SGD(model.parameters(), lr=0.01)  # Stochastic Gradient Descent"
   ]
  },
  {
   "cell_type": "code",
   "execution_count": 7,
   "id": "62a8c649-5fee-4d01-99ce-dd72705623ef",
   "metadata": {},
   "outputs": [
    {
     "name": "stderr",
     "output_type": "stream",
     "text": [
      "100%|██████████| 9.91M/9.91M [00:00<00:00, 169MB/s]\n",
      "100%|██████████| 28.9k/28.9k [00:00<00:00, 17.0MB/s]\n",
      "100%|██████████| 1.65M/1.65M [00:00<00:00, 42.1MB/s]\n",
      "100%|██████████| 4.54k/4.54k [00:00<00:00, 2.82MB/s]\n"
     ]
    },
    {
     "name": "stdout",
     "output_type": "stream",
     "text": [
      "Epoch 1, Loss: 0.8857772010087966\n",
      "Epoch 2, Loss: 0.3759764965236187\n",
      "Epoch 3, Loss: 0.3216634220143159\n",
      "Epoch 4, Loss: 0.290569965660572\n",
      "Epoch 5, Loss: 0.2672068876326084\n"
     ]
    }
   ],
   "source": [
    "from torchvision import datasets, transforms\n",
    "\n",
    "# Load MNIST dataset\n",
    "train_loader = torch.utils.data.DataLoader(\n",
    "    datasets.MNIST(root='data', train=True, download=True,\n",
    "                   transform=transforms.ToTensor()),\n",
    "    batch_size=32, shuffle=True)\n",
    "\n",
    "# Train the model\n",
    "num_epochs = 5\n",
    "for epoch in range(num_epochs):\n",
    "    running_loss = 0.0\n",
    "    for inputs, labels in train_loader:\n",
    "        optimizer.zero_grad()  # Reset gradients\n",
    "\n",
    "        # Forward pass\n",
    "        outputs = model(inputs.view(-1, 784))  # Flatten input\n",
    "        loss = criterion(outputs, labels)      # Compute loss\n",
    "\n",
    "        # Backward pass and optimization\n",
    "        loss.backward()\n",
    "        optimizer.step()\n",
    "\n",
    "        running_loss += loss.item()\n",
    "\n",
    "    print(f\"Epoch {epoch+1}, Loss: {running_loss/len(train_loader)}\")"
   ]
  },
  {
   "cell_type": "code",
   "execution_count": 8,
   "id": "58b1c1f1-d3c8-4b57-97d1-8cca999ed087",
   "metadata": {},
   "outputs": [
    {
     "name": "stdout",
     "output_type": "stream",
     "text": [
      "Registering model simple_nn\n"
     ]
    }
   ],
   "source": [
    "from azureml.core import Model\n",
    "\n",
    "# Save the trained model\n",
    "torch.save(model.state_dict(), 'simple_nn.pth')\n",
    "\n",
    "# Register the model in Azure\n",
    "model = Model.register(workspace=ws, model_path='simple_nn.pth', model_name='simple_nn')\n",
    "\n",
    "# Deploying as a web service requires more steps such as creating a scoring script and environment."
   ]
  },
  {
   "cell_type": "code",
   "execution_count": null,
   "id": "02a2d439-0154-4831-85f1-1c80f9b6ec4d",
   "metadata": {},
   "outputs": [],
   "source": []
  }
 ],
 "metadata": {
  "kernelspec": {
   "display_name": "Python 3.10 - Pytorch and Tensorflow",
   "language": "python",
   "name": "python38-azureml-pt-tf"
  },
  "language_info": {
   "codemirror_mode": {
    "name": "ipython",
    "version": 3
   },
   "file_extension": ".py",
   "mimetype": "text/x-python",
   "name": "python",
   "nbconvert_exporter": "python",
   "pygments_lexer": "ipython3",
   "version": "3.10.16"
  }
 },
 "nbformat": 4,
 "nbformat_minor": 5
}
