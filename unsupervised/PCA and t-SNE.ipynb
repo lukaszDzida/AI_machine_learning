{
 "cells": [
  {
   "cell_type": "code",
   "execution_count": 1,
   "id": "4ebb2a18-be66-4f59-a703-43a634143bb1",
   "metadata": {},
   "outputs": [
    {
     "name": "stdout",
     "output_type": "stream",
     "text": [
      "Requirement already satisfied: pandas in /anaconda/envs/azureml_py38/lib/python3.10/site-packages (2.3.3)\n",
      "Requirement already satisfied: scikit-learn in /anaconda/envs/azureml_py38/lib/python3.10/site-packages (1.5.1)\n",
      "Requirement already satisfied: matplotlib in /anaconda/envs/azureml_py38/lib/python3.10/site-packages (3.7.1)\n",
      "Requirement already satisfied: pytz>=2020.1 in /anaconda/envs/azureml_py38/lib/python3.10/site-packages (from pandas) (2022.5)\n",
      "Requirement already satisfied: python-dateutil>=2.8.2 in /anaconda/envs/azureml_py38/lib/python3.10/site-packages (from pandas) (2.9.0.post0)\n",
      "Requirement already satisfied: tzdata>=2022.7 in /anaconda/envs/azureml_py38/lib/python3.10/site-packages (from pandas) (2025.2)\n",
      "Requirement already satisfied: numpy>=1.22.4 in /anaconda/envs/azureml_py38/lib/python3.10/site-packages (from pandas) (1.26.4)\n",
      "Requirement already satisfied: scipy>=1.6.0 in /anaconda/envs/azureml_py38/lib/python3.10/site-packages (from scikit-learn) (1.11.0)\n",
      "Requirement already satisfied: threadpoolctl>=3.1.0 in /anaconda/envs/azureml_py38/lib/python3.10/site-packages (from scikit-learn) (3.6.0)\n",
      "Requirement already satisfied: joblib>=1.2.0 in /anaconda/envs/azureml_py38/lib/python3.10/site-packages (from scikit-learn) (1.2.0)\n",
      "Requirement already satisfied: pyparsing>=2.3.1 in /anaconda/envs/azureml_py38/lib/python3.10/site-packages (from matplotlib) (3.2.3)\n",
      "Requirement already satisfied: fonttools>=4.22.0 in /anaconda/envs/azureml_py38/lib/python3.10/site-packages (from matplotlib) (4.51.0)\n",
      "Requirement already satisfied: cycler>=0.10 in /anaconda/envs/azureml_py38/lib/python3.10/site-packages (from matplotlib) (0.12.1)\n",
      "Requirement already satisfied: kiwisolver>=1.0.1 in /anaconda/envs/azureml_py38/lib/python3.10/site-packages (from matplotlib) (1.4.8)\n",
      "Requirement already satisfied: pillow>=6.2.0 in /anaconda/envs/azureml_py38/lib/python3.10/site-packages (from matplotlib) (9.2.0)\n",
      "Requirement already satisfied: contourpy>=1.0.1 in /anaconda/envs/azureml_py38/lib/python3.10/site-packages (from matplotlib) (1.3.1)\n",
      "Requirement already satisfied: packaging>=20.0 in /anaconda/envs/azureml_py38/lib/python3.10/site-packages (from matplotlib) (25.0)\n",
      "Requirement already satisfied: six>=1.5 in /anaconda/envs/azureml_py38/lib/python3.10/site-packages (from python-dateutil>=2.8.2->pandas) (1.17.0)\n",
      "Note: you may need to restart the kernel to use updated packages.\n"
     ]
    }
   ],
   "source": [
    "pip install pandas scikit-learn matplotlib"
   ]
  },
  {
   "cell_type": "code",
   "execution_count": 2,
   "id": "ca29bdda-bb2f-4708-973f-bbfc22cf69ff",
   "metadata": {},
   "outputs": [],
   "source": [
    "import pandas as pd\n",
    "import matplotlib.pyplot as plt\n",
    "from sklearn.decomposition import PCA\n",
    "from sklearn.manifold import TSNE\n",
    "from sklearn.preprocessing import StandardScaler"
   ]
  },
  {
   "cell_type": "code",
   "execution_count": 24,
   "id": "998c94e8-f5ef-4fae-89e7-9e97e212c731",
   "metadata": {},
   "outputs": [
    {
     "name": "stdout",
     "output_type": "stream",
     "text": [
      "   AnnualIncome  SpendingScore   Age\n",
      "0          15.0             39  20.0\n",
      "1          15.5             42  20.5\n",
      "2          16.0             45  21.0\n",
      "3          16.5             48  21.5\n",
      "4          17.0             51  22.0\n"
     ]
    }
   ],
   "source": [
    "import pandas as pd\n",
    "from sklearn.preprocessing import StandardScaler\n",
    "\n",
    "# Sample dataset: Customer annual income, spending score, and age\n",
    "data = {\n",
    "    'AnnualIncome': [\n",
    "        15, 15.5, 16, 16.5, 17, 17.5, 18, 18.5, 19, 19.5, \n",
    "        20, 20.5, 21, 21.5, 22, 22.5, 23, 23.5, 24, 24.5, \n",
    "        25, 25.5, 26, 26.5, 27, 27.5, 28, 28.5, 29, 29.5, \n",
    "        30, 30.5, 31, 31.5, 32, 32.5, 33, 33.5, 34, 34.5, \n",
    "        35,   # Normal points\n",
    "        80, 85, 90  # Outliers\n",
    "    ],\n",
    "    'SpendingScore': [\n",
    "        39, 42, 45, 48, 51, 54, 57, 60, 63, 66,\n",
    "        69, 72, 75, 78, 81, 84, 87, 90, 93, 96,\n",
    "        6, 9, 12, 15, 18, 21, 24, 27, 30, 33,\n",
    "        5, 8, 11, 14, 17, 20, 23, 26, 29, 32,\n",
    "        56,   # Normal points\n",
    "        2, 3, 100  # Outliers\n",
    "    ],\n",
    "    'Age': [\n",
    "        20, 20.5, 21, 21.5, 22, 22.5, 23, 23.5, 24, 24.5, \n",
    "        25, 25.5, 26, 26.5, 27, 27.5, 28, 28.5, 29, 29.5, \n",
    "        30, 30.5, 31, 31.5, 32, 32.5, 33, 33.5, 34, 34.5, \n",
    "        35, 35.5, 36, 36.5, 37, 37.5, 38, 38.5, 39, 39.5, \n",
    "        40,   # Normal points\n",
    "        15, 60, 70  # Outliers\n",
    "    ]\n",
    "}\n",
    "\n",
    "df = pd.DataFrame(data)\n",
    "print(df.head())"
   ]
  },
  {
   "cell_type": "code",
   "execution_count": 19,
   "id": "2b3805b6-6b5b-458f-be2e-c30f26f88fe1",
   "metadata": {},
   "outputs": [
    {
     "name": "stdout",
     "output_type": "stream",
     "text": [
      "   AnnualIncome  SpendingScore       Age\n",
      "0     -0.869761      -0.135877 -1.166678\n",
      "1     -0.838899      -0.033387 -1.114825\n",
      "2     -0.808036       0.069103 -1.062973\n",
      "3     -0.777174       0.171594 -1.011121\n",
      "4     -0.746311       0.274084 -0.959268\n"
     ]
    }
   ],
   "source": [
    "# Normalize the data\n",
    "scaler = StandardScaler()\n",
    "scaled = scaler.fit_transform(df)\n",
    "\n",
    "# Convert back to DataFrame for easy handling\n",
    "df_scaled = pd.DataFrame(scaled, columns=['AnnualIncome', 'SpendingScore','Age'])\n",
    "\n",
    "print(df_scaled.head())"
   ]
  },
  {
   "cell_type": "code",
   "execution_count": 6,
   "id": "0bb274ad-19ec-4bbf-8913-4880af9025d6",
   "metadata": {},
   "outputs": [
    {
     "name": "stdout",
     "output_type": "stream",
     "text": [
      "       PCA1      PCA2\n",
      "0 -1.898479 -0.315254\n",
      "1 -1.794222 -0.261842\n",
      "2 -1.689965 -0.208430\n",
      "3 -1.585708 -0.155018\n",
      "4 -1.481451 -0.101606\n"
     ]
    }
   ],
   "source": [
    "# Apply PCA to reduce dimensions from 3 to 2\n",
    "pca = PCA(n_components=2)\n",
    "df_pca = pca.fit_transform(scaled)\n",
    "\n",
    "# Convert back to DataFrame for easy handling\n",
    "df_pca = pd.DataFrame(df_pca, columns=['PCA1', 'PCA2'])\n",
    "print(df_pca.head())"
   ]
  },
  {
   "cell_type": "code",
   "execution_count": 20,
   "id": "21aa68d7-5702-4f2d-9b80-7700c6d04035",
   "metadata": {},
   "outputs": [
    {
     "data": {
      "image/png": "[encoded data removed]",
      "text/plain": [
       "<Figure size 640x480 with 1 Axes>"
      ]
     },
     "metadata": {},
     "output_type": "display_data"
    }
   ],
   "source": [
    "# Plot the PCA components\n",
    "plt.scatter(df_pca['PCA1'], df_pca['PCA2'])\n",
    "plt.title('PCA - Dimensionality Reduction')\n",
    "plt.xlabel('PCA1')\n",
    "plt.ylabel('PCA2')\n",
    "plt.show()"
   ]
  },
  {
   "cell_type": "code",
   "execution_count": 21,
   "id": "314e65a3-de74-448f-ade3-d9f076ee66de",
   "metadata": {},
   "outputs": [
    {
     "name": "stdout",
     "output_type": "stream",
     "text": [
      "      t-SNE1     t-SNE2\n",
      "0 -31.447144  62.692993\n",
      "1 -29.349270  57.545307\n",
      "2 -33.626369  53.257496\n",
      "3 -37.032719  47.805614\n",
      "4 -40.524437  42.072716\n"
     ]
    }
   ],
   "source": [
    "# Apply t-SNE to reduce dimensions to 2\n",
    "tsne = TSNE(n_components=2, perplexity=3, random_state=42)\n",
    "df_tsne = tsne.fit_transform(scaled)\n",
    "\n",
    "# Convert the t-SNE result back to a DataFrame\n",
    "df_tsne = pd.DataFrame(df_tsne, columns=['t-SNE1', 't-SNE2'])\n",
    "print(df_tsne.head())"
   ]
  },
  {
   "cell_type": "code",
   "execution_count": 22,
   "id": "6114a9bd-880b-4eac-b9ea-5e49d9defb32",
   "metadata": {},
   "outputs": [
    {
     "data": {
      "image/png": "[encoded data removed]",
      "text/plain": [
       "<Figure size 640x480 with 1 Axes>"
      ]
     },
     "metadata": {},
     "output_type": "display_data"
    }
   ],
   "source": [
    "# Plot the t-SNE components\n",
    "plt.scatter(df_tsne['t-SNE1'], df_tsne['t-SNE2'])\n",
    "plt.title('t-SNE - Dimensionality Reduction')\n",
    "plt.xlabel('t-SNE1')\n",
    "plt.ylabel('t-SNE2')\n",
    "plt.show()"
   ]
  },
  {
   "cell_type": "code",
   "execution_count": null,
   "id": "1b3e1f8d-2a3d-4335-9c62-9d056926e106",
   "metadata": {},
   "outputs": [],
   "source": []
  }
 ],
 "metadata": {
  "kernelspec": {
   "display_name": "Python 3.10 - AzureML",
   "language": "python",
   "name": "python38-azureml"
  },
  "language_info": {
   "codemirror_mode": {
    "name": "ipython",
    "version": 3
   },
   "file_extension": ".py",
   "mimetype": "text/x-python",
   "name": "python",
   "nbconvert_exporter": "python",
   "pygments_lexer": "ipython3",
   "version": "3.10.11"
  }
 },
 "nbformat": 4,
 "nbformat_minor": 5
}
