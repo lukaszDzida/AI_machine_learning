{
 "cells": [
  {
   "cell_type": "code",
   "execution_count": 1,
   "id": "ba20d158-97d8-48f5-80c8-565233fcd885",
   "metadata": {},
   "outputs": [
    {
     "name": "stdout",
     "output_type": "stream",
     "text": [
      "Requirement already satisfied: numpy in /anaconda/envs/azureml_py38/lib/python3.10/site-packages (1.26.4)\n",
      "Requirement already satisfied: tensorflow in /anaconda/envs/azureml_py38/lib/python3.10/site-packages (2.19.0)\n",
      "Requirement already satisfied: matplotlib in /anaconda/envs/azureml_py38/lib/python3.10/site-packages (3.7.1)\n",
      "Requirement already satisfied: google-pasta>=0.1.1 in /anaconda/envs/azureml_py38/lib/python3.10/site-packages (from tensorflow) (0.2.0)\n",
      "Requirement already satisfied: six>=1.12.0 in /anaconda/envs/azureml_py38/lib/python3.10/site-packages (from tensorflow) (1.17.0)\n",
      "Requirement already satisfied: grpcio<2.0,>=1.24.3 in /anaconda/envs/azureml_py38/lib/python3.10/site-packages (from tensorflow) (1.71.0)\n",
      "Requirement already satisfied: ml-dtypes<1.0.0,>=0.5.1 in /anaconda/envs/azureml_py38/lib/python3.10/site-packages (from tensorflow) (0.5.1)\n",
      "Requirement already satisfied: absl-py>=1.0.0 in /anaconda/envs/azureml_py38/lib/python3.10/site-packages (from tensorflow) (2.3.1)\n",
      "Requirement already satisfied: libclang>=13.0.0 in /anaconda/envs/azureml_py38/lib/python3.10/site-packages (from tensorflow) (18.1.1)\n",
      "Requirement already satisfied: gast!=0.5.0,!=0.5.1,!=0.5.2,>=0.2.1 in /anaconda/envs/azureml_py38/lib/python3.10/site-packages (from tensorflow) (0.6.0)\n",
      "Requirement already satisfied: typing-extensions>=3.6.6 in /anaconda/envs/azureml_py38/lib/python3.10/site-packages (from tensorflow) (4.14.1)\n",
      "Requirement already satisfied: requests<3,>=2.21.0 in /anaconda/envs/azureml_py38/lib/python3.10/site-packages (from tensorflow) (2.32.4)\n",
      "Requirement already satisfied: termcolor>=1.1.0 in /anaconda/envs/azureml_py38/lib/python3.10/site-packages (from tensorflow) (3.0.1)\n",
      "Requirement already satisfied: h5py>=3.11.0 in /anaconda/envs/azureml_py38/lib/python3.10/site-packages (from tensorflow) (3.14.0)\n",
      "Requirement already satisfied: tensorflow-io-gcs-filesystem>=0.23.1 in /anaconda/envs/azureml_py38/lib/python3.10/site-packages (from tensorflow) (0.37.1)\n",
      "Requirement already satisfied: protobuf!=4.21.0,!=4.21.1,!=4.21.2,!=4.21.3,!=4.21.4,!=4.21.5,<6.0.0dev,>=3.20.3 in /anaconda/envs/azureml_py38/lib/python3.10/site-packages (from tensorflow) (4.25.8)\n",
      "Requirement already satisfied: tensorboard~=2.19.0 in /anaconda/envs/azureml_py38/lib/python3.10/site-packages (from tensorflow) (2.19.0)\n",
      "Requirement already satisfied: opt-einsum>=2.3.2 in /anaconda/envs/azureml_py38/lib/python3.10/site-packages (from tensorflow) (3.4.0)\n",
      "Requirement already satisfied: setuptools in /anaconda/envs/azureml_py38/lib/python3.10/site-packages (from tensorflow) (75.8.0)\n",
      "Requirement already satisfied: keras>=3.5.0 in /anaconda/envs/azureml_py38/lib/python3.10/site-packages (from tensorflow) (3.10.0)\n",
      "Requirement already satisfied: wrapt>=1.11.0 in /anaconda/envs/azureml_py38/lib/python3.10/site-packages (from tensorflow) (1.14.1)\n",
      "Requirement already satisfied: astunparse>=1.6.0 in /anaconda/envs/azureml_py38/lib/python3.10/site-packages (from tensorflow) (1.6.3)\n",
      "Requirement already satisfied: packaging in /anaconda/envs/azureml_py38/lib/python3.10/site-packages (from tensorflow) (25.0)\n",
      "Requirement already satisfied: flatbuffers>=24.3.25 in /anaconda/envs/azureml_py38/lib/python3.10/site-packages (from tensorflow) (25.2.10)\n",
      "Requirement already satisfied: cycler>=0.10 in /anaconda/envs/azureml_py38/lib/python3.10/site-packages (from matplotlib) (0.12.1)\n",
      "Requirement already satisfied: contourpy>=1.0.1 in /anaconda/envs/azureml_py38/lib/python3.10/site-packages (from matplotlib) (1.3.1)\n",
      "Requirement already satisfied: pillow>=6.2.0 in /anaconda/envs/azureml_py38/lib/python3.10/site-packages (from matplotlib) (9.2.0)\n",
      "Requirement already satisfied: pyparsing>=2.3.1 in /anaconda/envs/azureml_py38/lib/python3.10/site-packages (from matplotlib) (3.2.3)\n",
      "Requirement already satisfied: kiwisolver>=1.0.1 in /anaconda/envs/azureml_py38/lib/python3.10/site-packages (from matplotlib) (1.4.8)\n",
      "Requirement already satisfied: fonttools>=4.22.0 in /anaconda/envs/azureml_py38/lib/python3.10/site-packages (from matplotlib) (4.51.0)\n",
      "Requirement already satisfied: python-dateutil>=2.7 in /anaconda/envs/azureml_py38/lib/python3.10/site-packages (from matplotlib) (2.9.0.post0)\n",
      "Requirement already satisfied: wheel<1.0,>=0.23.0 in /anaconda/envs/azureml_py38/lib/python3.10/site-packages (from astunparse>=1.6.0->tensorflow) (0.45.1)\n",
      "Requirement already satisfied: rich in /anaconda/envs/azureml_py38/lib/python3.10/site-packages (from keras>=3.5.0->tensorflow) (14.0.0)\n",
      "Requirement already satisfied: namex in /anaconda/envs/azureml_py38/lib/python3.10/site-packages (from keras>=3.5.0->tensorflow) (0.1.0)\n",
      "Requirement already satisfied: optree in /anaconda/envs/azureml_py38/lib/python3.10/site-packages (from keras>=3.5.0->tensorflow) (0.16.0)\n",
      "Requirement already satisfied: urllib3<3,>=1.21.1 in /anaconda/envs/azureml_py38/lib/python3.10/site-packages (from requests<3,>=2.21.0->tensorflow) (2.5.0)\n",
      "Requirement already satisfied: charset_normalizer<4,>=2 in /anaconda/envs/azureml_py38/lib/python3.10/site-packages (from requests<3,>=2.21.0->tensorflow) (3.4.2)\n",
      "Requirement already satisfied: idna<4,>=2.5 in /anaconda/envs/azureml_py38/lib/python3.10/site-packages (from requests<3,>=2.21.0->tensorflow) (3.10)\n",
      "Requirement already satisfied: certifi>=2017.4.17 in /anaconda/envs/azureml_py38/lib/python3.10/site-packages (from requests<3,>=2.21.0->tensorflow) (2025.7.9)\n",
      "Requirement already satisfied: werkzeug>=1.0.1 in /anaconda/envs/azureml_py38/lib/python3.10/site-packages (from tensorboard~=2.19.0->tensorflow) (3.1.3)\n",
      "Requirement already satisfied: tensorboard-data-server<0.8.0,>=0.7.0 in /anaconda/envs/azureml_py38/lib/python3.10/site-packages (from tensorboard~=2.19.0->tensorflow) (0.7.2)\n",
      "Requirement already satisfied: markdown>=2.6.8 in /anaconda/envs/azureml_py38/lib/python3.10/site-packages (from tensorboard~=2.19.0->tensorflow) (3.8.2)\n",
      "Requirement already satisfied: MarkupSafe>=2.1.1 in /anaconda/envs/azureml_py38/lib/python3.10/site-packages (from werkzeug>=1.0.1->tensorboard~=2.19.0->tensorflow) (3.0.2)\n",
      "Requirement already satisfied: markdown-it-py>=2.2.0 in /anaconda/envs/azureml_py38/lib/python3.10/site-packages (from rich->keras>=3.5.0->tensorflow) (3.0.0)\n",
      "Requirement already satisfied: pygments<3.0.0,>=2.13.0 in /anaconda/envs/azureml_py38/lib/python3.10/site-packages (from rich->keras>=3.5.0->tensorflow) (2.19.2)\n",
      "Requirement already satisfied: mdurl~=0.1 in /anaconda/envs/azureml_py38/lib/python3.10/site-packages (from markdown-it-py>=2.2.0->rich->keras>=3.5.0->tensorflow) (0.1.2)\n",
      "Note: you may need to restart the kernel to use updated packages.\n"
     ]
    }
   ],
   "source": [
    "pip install numpy tensorflow matplotlib"
   ]
  },
  {
   "cell_type": "code",
   "execution_count": 2,
   "id": "cd17853e-ed29-4f26-886a-c4c1936fec13",
   "metadata": {},
   "outputs": [],
   "source": [
    "import numpy as np\n",
    "\n",
    "grid_size = 5\n",
    "n_actions = 4\n",
    "\n",
    "# Initialize Q-table with zeros\n",
    "Q_table = np.zeros((grid_size * grid_size, n_actions))"
   ]
  },
  {
   "cell_type": "code",
   "execution_count": 3,
   "id": "d3045f57-7949-4ab0-b562-3c0557256b45",
   "metadata": {},
   "outputs": [
    {
     "data": {
      "text/plain": [
       "array([[0., 0., 0., 0.],\n",
       "       [0., 0., 0., 0.],\n",
       "       [0., 0., 0., 0.],\n",
       "       [0., 0., 0., 0.],\n",
       "       [0., 0., 0., 0.],\n",
       "       [0., 0., 0., 0.],\n",
       "       [0., 0., 0., 0.],\n",
       "       [0., 0., 0., 0.],\n",
       "       [0., 0., 0., 0.],\n",
       "       [0., 0., 0., 0.],\n",
       "       [0., 0., 0., 0.],\n",
       "       [0., 0., 0., 0.],\n",
       "       [0., 0., 0., 0.],\n",
       "       [0., 0., 0., 0.],\n",
       "       [0., 0., 0., 0.],\n",
       "       [0., 0., 0., 0.],\n",
       "       [0., 0., 0., 0.],\n",
       "       [0., 0., 0., 0.],\n",
       "       [0., 0., 0., 0.],\n",
       "       [0., 0., 0., 0.],\n",
       "       [0., 0., 0., 0.],\n",
       "       [0., 0., 0., 0.],\n",
       "       [0., 0., 0., 0.],\n",
       "       [0., 0., 0., 0.],\n",
       "       [0., 0., 0., 0.]])"
      ]
     },
     "execution_count": 3,
     "metadata": {},
     "output_type": "execute_result"
    }
   ],
   "source": [
    "Q_table"
   ]
  },
  {
   "cell_type": "code",
   "execution_count": 4,
   "id": "08b51bb3-de1b-4fbd-9d22-20a677349f79",
   "metadata": {},
   "outputs": [],
   "source": [
    "rewards = np.full((grid_size * grid_size,), -1)\n",
    "rewards[24] = 10  # Goal state\n",
    "rewards[12] = -10  # Pitfall state"
   ]
  },
  {
   "cell_type": "code",
   "execution_count": 5,
   "id": "3a511487-b32c-4aac-8a00-862f21aabcda",
   "metadata": {},
   "outputs": [],
   "source": [
    "def epsilon_greedy_action(Q_table, state, epsilon):\n",
    "    if np.random.uniform(0, 1) < epsilon:\n",
    "        return np.random.randint(0, n_actions)  # Explore\n",
    "    else:\n",
    "        return np.argmax(Q_table[state])  # Exploit"
   ]
  },
  {
   "cell_type": "code",
   "execution_count": 6,
   "id": "6104d15d-542e-4826-9ede-48a056a65c52",
   "metadata": {},
   "outputs": [],
   "source": [
    "alpha = 0.1  # Learning rate\n",
    "gamma = 0.9  # Discount factor\n",
    "epsilon = 0.1  # Exploration rate\n",
    "\n",
    "for episode in range(1000):\n",
    "    state = np.random.randint(0, grid_size * grid_size)  # Random start\n",
    "    done = False\n",
    "    while not done:\n",
    "        action = epsilon_greedy_action(Q_table, state, epsilon)\n",
    "        next_state = np.random.randint(0, grid_size * grid_size)  # Random next state\n",
    "        reward = rewards[next_state]\n",
    "\n",
    "        # Update Q-value using Bellman equation\n",
    "        Q_table[state, action] = Q_table[state, action] + alpha * (reward + gamma * np.max(Q_table[next_state]) - Q_table[state, action])\n",
    "\n",
    "        state = next_state\n",
    "        if next_state == 24 or next_state == 12:\n",
    "            done = True  # End episode if goal or pitfall is reached"
   ]
  },
  {
   "cell_type": "code",
   "execution_count": 16,
   "id": "27d698e1-53db-4819-889b-2308b027e58f",
   "metadata": {},
   "outputs": [
    {
     "data": {
      "text/plain": [
       "array([[-5.66612639, -4.0176814 , -5.75579862, -5.96107204],\n",
       "       [-4.93675956, -5.79352269, -5.76025513, -5.61496814],\n",
       "       [-5.77889015, -6.20192969, -6.08142021, -5.39593438],\n",
       "       [-5.23326586, -6.00076052, -4.26689723, -5.52740232],\n",
       "       [-5.39895197, -5.395474  , -5.37159359, -5.31820888],\n",
       "       [-5.89293354, -5.58703228, -5.90928786, -5.95651835],\n",
       "       [-6.0187336 , -5.82315842, -5.73056219, -6.09512388],\n",
       "       [-5.90133806, -5.57617258, -6.03602302, -5.99726581],\n",
       "       [-4.98282668, -6.05769806, -5.78837438, -6.12963553],\n",
       "       [-5.72085472, -5.43915582, -5.47145777, -5.41464172],\n",
       "       [-5.93822706, -5.86036818, -5.57909961, -6.21555123],\n",
       "       [-5.55966726, -5.92775756, -5.54163314, -5.60737673],\n",
       "       [-2.80376014, -2.72450856, -2.70580544, -2.48975967],\n",
       "       [-6.15878721, -6.06836398, -5.91906446, -4.43273878],\n",
       "       [-5.54213677, -5.51765343, -5.91776299, -5.96524963],\n",
       "       [-5.62787911, -5.37646998, -5.72693976, -5.62826737],\n",
       "       [-5.55840045, -5.62442896, -4.62385189, -6.57627385],\n",
       "       [-5.7130854 , -5.683019  , -5.59437572, -5.92796737],\n",
       "       [-6.25458555, -6.14999842, -5.61443003, -5.64563012],\n",
       "       [-5.49831069, -5.32620362, -5.58432058, -5.47510861],\n",
       "       [-5.60114179, -5.08904309, -5.96754409, -6.14090857],\n",
       "       [-5.9539223 , -5.9821935 , -5.77062136, -5.91698191],\n",
       "       [-5.37462759, -5.69707981, -5.43788143, -5.35478216],\n",
       "       [-5.78866362, -6.12315626, -5.49248272, -5.51329724],\n",
       "       [-3.22995388, -3.13200231, -3.05053557, -3.14631953]])"
      ]
     },
     "execution_count": 16,
     "metadata": {},
     "output_type": "execute_result"
    }
   ],
   "source": [
    "Q_table"
   ]
  },
  {
   "cell_type": "code",
   "execution_count": 7,
   "id": "769fcd9a-fbdf-42a9-a8de-f426eaba4c7d",
   "metadata": {},
   "outputs": [
    {
     "name": "stderr",
     "output_type": "stream",
     "text": [
      "2025-10-14 18:41:47.893076: I tensorflow/core/util/port.cc:153] oneDNN custom operations are on. You may see slightly different numerical results due to floating-point round-off errors from different computation orders. To turn them off, set the environment variable `TF_ENABLE_ONEDNN_OPTS=0`.\n",
      "2025-10-14 18:41:47.909750: E external/local_xla/xla/stream_executor/cuda/cuda_fft.cc:467] Unable to register cuFFT factory: Attempting to register factory for plugin cuFFT when one has already been registered\n",
      "WARNING: All log messages before absl::InitializeLog() is called are written to STDERR\n",
      "E0000 00:00:1760467307.929757    9167 cuda_dnn.cc:8579] Unable to register cuDNN factory: Attempting to register factory for plugin cuDNN when one has already been registered\n",
      "E0000 00:00:1760467307.935690    9167 cuda_blas.cc:1407] Unable to register cuBLAS factory: Attempting to register factory for plugin cuBLAS when one has already been registered\n",
      "W0000 00:00:1760467307.950700    9167 computation_placer.cc:177] computation placer already registered. Please check linkage and avoid linking the same target more than once.\n",
      "W0000 00:00:1760467307.950717    9167 computation_placer.cc:177] computation placer already registered. Please check linkage and avoid linking the same target more than once.\n",
      "W0000 00:00:1760467307.950719    9167 computation_placer.cc:177] computation placer already registered. Please check linkage and avoid linking the same target more than once.\n",
      "W0000 00:00:1760467307.950721    9167 computation_placer.cc:177] computation placer already registered. Please check linkage and avoid linking the same target more than once.\n",
      "2025-10-14 18:41:47.955164: I tensorflow/core/platform/cpu_feature_guard.cc:210] This TensorFlow binary is optimized to use available CPU instructions in performance-critical operations.\n",
      "To enable the following instructions: AVX2 AVX512F AVX512_VNNI FMA, in other operations, rebuild TensorFlow with the appropriate compiler flags.\n",
      "/anaconda/envs/azureml_py38/lib/python3.10/site-packages/keras/src/layers/core/dense.py:93: UserWarning: Do not pass an `input_shape`/`input_dim` argument to a layer. When using Sequential models, prefer using an `Input(shape)` object as the first layer in the model instead.\n",
      "  super().__init__(activity_regularizer=activity_regularizer, **kwargs)\n",
      "2025-10-14 18:41:50.921888: E external/local_xla/xla/stream_executor/cuda/cuda_platform.cc:51] failed call to cuInit: INTERNAL: CUDA error: Failed call to cuInit: CUDA_ERROR_NO_DEVICE: no CUDA-capable device is detected\n"
     ]
    }
   ],
   "source": [
    "import tensorflow as tf\n",
    "\n",
    "n_states = grid_size * grid_size  # 25 states in the grid\n",
    "n_actions = 4  # Four possible actions\n",
    "\n",
    "model = tf.keras.Sequential([\n",
    "    tf.keras.layers.Dense(24, activation='relu', input_shape=(n_states,)),\n",
    "    tf.keras.layers.Dense(n_actions, activation='softmax')  # Output action probabilities\n",
    "])\n",
    "\n",
    "optimizer = tf.keras.optimizers.Adam(learning_rate=0.01)"
   ]
  },
  {
   "cell_type": "code",
   "execution_count": 8,
   "id": "6470938a-28aa-40da-bc3e-afc8d0961304",
   "metadata": {},
   "outputs": [],
   "source": [
    "def get_action(state):\n",
    "    state_input = tf.one_hot(state, n_states)  # One-hot encode the state\n",
    "    action_probs = model(state_input[np.newaxis, :])\n",
    "    return np.random.choice(n_actions, p=action_probs.numpy()[0])"
   ]
  },
  {
   "cell_type": "code",
   "execution_count": 9,
   "id": "f5e4b2cc-f8f9-4e02-bdfe-2958fc205d2b",
   "metadata": {},
   "outputs": [],
   "source": [
    "def compute_cumulative_rewards(rewards, gamma=0.99):\n",
    "    cumulative_rewards = np.zeros_like(rewards)\n",
    "    running_add = 0\n",
    "    for t in reversed(range(len(rewards))):\n",
    "        running_add = running_add * gamma + rewards[t]\n",
    "        cumulative_rewards[t] = running_add\n",
    "    return cumulative_rewards"
   ]
  },
  {
   "cell_type": "code",
   "execution_count": 13,
   "id": "c8209d99-3df8-4451-81b8-4c59bff2472e",
   "metadata": {},
   "outputs": [],
   "source": [
    "def update_policy(states, actions, rewards):\n",
    "    cumulative_rewards = compute_cumulative_rewards(rewards)\n",
    "\n",
    "    with tf.GradientTape() as tape:\n",
    "        state_inputs = tf.one_hot(states, n_states)\n",
    "        action_probs = model(state_inputs)\n",
    "        action_masks = tf.one_hot(actions, n_actions)\n",
    "\n",
    "        # Log-probabilities of the actions taken\n",
    "        log_probs = tf.reduce_sum(action_masks * tf.math.log(action_probs), axis=1)\n",
    "\n",
    "        # Policy loss function\n",
    "        loss = -tf.reduce_mean(log_probs * cumulative_rewards)\n",
    "\n",
    "    # Apply gradients to update the policy network\n",
    "    grads = tape.gradient(loss, model.trainable_variables)\n",
    "    optimizer.apply_gradients(zip(grads, model.trainable_variables))"
   ]
  },
  {
   "cell_type": "code",
   "execution_count": 17,
   "id": "b2564ba6-d05a-4ce6-900f-bd013ee52181",
   "metadata": {},
   "outputs": [],
   "source": [
    "rewards = np.full((grid_size * grid_size,), -1)\n",
    "rewards[24] = 10  # Goal state\n",
    "rewards[12] = -10  # Pitfall state"
   ]
  },
  {
   "cell_type": "code",
   "execution_count": 21,
   "id": "cdf3216c-99b9-4dce-b087-c4e12a0b6fe1",
   "metadata": {},
   "outputs": [],
   "source": [
    "rewards_policy_gradients = compute_cumulative_rewards(rewards)"
   ]
  },
  {
   "cell_type": "code",
   "execution_count": 22,
   "id": "cffef956-23ec-4ea9-8920-e326dda5af93",
   "metadata": {},
   "outputs": [
    {
     "data": {
      "image/png": "[encoded data removed]",
      "text/plain": [
       "<Figure size 640x480 with 1 Axes>"
      ]
     },
     "metadata": {},
     "output_type": "display_data"
    }
   ],
   "source": [
    "import matplotlib.pyplot as plt\n",
    "\n",
    "# Example code to visualize rewards over episodes\n",
    "plt.plot(Q_table, label='Q-Learning')\n",
    "plt.plot(rewards_policy_gradients, label='Policy Gradients')\n",
    "plt.xlabel('Episodes')\n",
    "plt.ylabel('Cumulative Rewards')\n",
    "plt.legend()\n",
    "plt.show()"
   ]
  },
  {
   "cell_type": "code",
   "execution_count": null,
   "id": "6fd57e75-32b3-403e-b855-86472510f511",
   "metadata": {},
   "outputs": [],
   "source": []
  }
 ],
 "metadata": {
  "kernelspec": {
   "display_name": "Python 3.10 - AzureML",
   "language": "python",
   "name": "python38-azureml"
  },
  "language_info": {
   "codemirror_mode": {
    "name": "ipython",
    "version": 3
   },
   "file_extension": ".py",
   "mimetype": "text/x-python",
   "name": "python",
   "nbconvert_exporter": "python",
   "pygments_lexer": "ipython3",
   "version": "3.10.11"
  }
 },
 "nbformat": 4,
 "nbformat_minor": 5
}
