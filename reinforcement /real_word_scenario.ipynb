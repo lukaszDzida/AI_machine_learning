{
 "cells": [
  {
   "cell_type": "code",
   "execution_count": 1,
   "id": "b70ea3c8-d36a-4814-a422-c5040d095fe8",
   "metadata": {},
   "outputs": [
    {
     "name": "stdout",
     "output_type": "stream",
     "text": [
      "Requirement already satisfied: numpy in /anaconda/envs/azureml_py38/lib/python3.10/site-packages (1.26.4)\n",
      "Requirement already satisfied: matplotlib in /anaconda/envs/azureml_py38/lib/python3.10/site-packages (3.7.1)\n",
      "Requirement already satisfied: cycler>=0.10 in /anaconda/envs/azureml_py38/lib/python3.10/site-packages (from matplotlib) (0.12.1)\n",
      "Requirement already satisfied: kiwisolver>=1.0.1 in /anaconda/envs/azureml_py38/lib/python3.10/site-packages (from matplotlib) (1.4.8)\n",
      "Requirement already satisfied: packaging>=20.0 in /anaconda/envs/azureml_py38/lib/python3.10/site-packages (from matplotlib) (25.0)\n",
      "Requirement already satisfied: python-dateutil>=2.7 in /anaconda/envs/azureml_py38/lib/python3.10/site-packages (from matplotlib) (2.9.0.post0)\n",
      "Requirement already satisfied: fonttools>=4.22.0 in /anaconda/envs/azureml_py38/lib/python3.10/site-packages (from matplotlib) (4.51.0)\n",
      "Requirement already satisfied: pyparsing>=2.3.1 in /anaconda/envs/azureml_py38/lib/python3.10/site-packages (from matplotlib) (3.2.3)\n",
      "Requirement already satisfied: pillow>=6.2.0 in /anaconda/envs/azureml_py38/lib/python3.10/site-packages (from matplotlib) (9.2.0)\n",
      "Requirement already satisfied: contourpy>=1.0.1 in /anaconda/envs/azureml_py38/lib/python3.10/site-packages (from matplotlib) (1.3.1)\n",
      "Requirement already satisfied: six>=1.5 in /anaconda/envs/azureml_py38/lib/python3.10/site-packages (from python-dateutil>=2.7->matplotlib) (1.17.0)\n",
      "Note: you may need to restart the kernel to use updated packages.\n"
     ]
    }
   ],
   "source": [
    "pip install numpy matplotlib"
   ]
  },
  {
   "cell_type": "code",
   "execution_count": 2,
   "id": "4dcec7dc-3640-4ffc-8798-66457e09a59a",
   "metadata": {},
   "outputs": [
    {
     "name": "stdout",
     "output_type": "stream",
     "text": [
      "Requirement already satisfied: scikit-learn in /anaconda/envs/azureml_py38/lib/python3.10/site-packages (1.5.1)\n",
      "Requirement already satisfied: threadpoolctl>=3.1.0 in /anaconda/envs/azureml_py38/lib/python3.10/site-packages (from scikit-learn) (3.6.0)\n",
      "Requirement already satisfied: scipy>=1.6.0 in /anaconda/envs/azureml_py38/lib/python3.10/site-packages (from scikit-learn) (1.11.0)\n",
      "Requirement already satisfied: joblib>=1.2.0 in /anaconda/envs/azureml_py38/lib/python3.10/site-packages (from scikit-learn) (1.2.0)\n",
      "Requirement already satisfied: numpy>=1.19.5 in /anaconda/envs/azureml_py38/lib/python3.10/site-packages (from scikit-learn) (1.26.4)\n",
      "Note: you may need to restart the kernel to use updated packages.\n"
     ]
    }
   ],
   "source": [
    "pip install scikit-learn"
   ]
  },
  {
   "cell_type": "code",
   "execution_count": 3,
   "id": "aed4b43f-28a3-4c8d-88e9-2bff6165af7a",
   "metadata": {},
   "outputs": [
    {
     "name": "stdout",
     "output_type": "stream",
     "text": [
      "Mean Squared Error: 624992307.7278056\n"
     ]
    }
   ],
   "source": [
    "from sklearn.linear_model import LinearRegression\n",
    "from sklearn.metrics import mean_squared_error\n",
    "from sklearn.model_selection import train_test_split\n",
    "\n",
    "# Sample data (square footage, bedrooms, neighborhood as encoded values)\n",
    "X = [[2000, 3, 1], [1500, 2, 2], [1800, 3, 3], [1200, 2, 1]]\n",
    "y = [500000, 350000, 450000, 300000]\n",
    "\n",
    "# Split data into training and test sets\n",
    "X_train, X_test, y_train, y_test = train_test_split(X, y, test_size=0.2)\n",
    "\n",
    "# Train the model\n",
    "model = LinearRegression()\n",
    "model.fit(X_train, y_train)\n",
    "\n",
    "# Make predictions and evaluate the model\n",
    "y_pred = model.predict(X_test)\n",
    "mse = mean_squared_error(y_test, y_pred)\n",
    "print(f\"Mean Squared Error: {mse}\")"
   ]
  },
  {
   "cell_type": "code",
   "execution_count": 4,
   "id": "8d43bd0e-0b30-40b9-8d92-6aa7a15d7ec9",
   "metadata": {},
   "outputs": [
    {
     "name": "stdout",
     "output_type": "stream",
     "text": [
      "Cluster Centers: [[3.5e+00 7.5e+02 1.5e+00]\n",
      " [9.0e+00 4.0e+03 4.0e+00]]\n",
      "Labels: [0 1 0 1]\n"
     ]
    }
   ],
   "source": [
    "from sklearn.cluster import KMeans\n",
    "import numpy as np\n",
    "\n",
    "# Sample customer data (number of purchases, total spending, product categories)\n",
    "X = np.array([[5, 1000, 2], [10, 5000, 5], [2, 500, 1], [8, 3000, 3]])\n",
    "\n",
    "# Create and fit the KMeans model\n",
    "kmeans = KMeans(n_clusters=2, random_state=0).fit(X)\n",
    "\n",
    "# Print the cluster centers and labels\n",
    "print(f\"Cluster Centers: {kmeans.cluster_centers_}\")\n",
    "print(f\"Labels: {kmeans.labels_}\")"
   ]
  },
  {
   "cell_type": "code",
   "execution_count": 5,
   "id": "0363ea13-e66d-4c7c-b7bc-d63eddbe0131",
   "metadata": {},
   "outputs": [
    {
     "ename": "KeyboardInterrupt",
     "evalue": "",
     "output_type": "error",
     "traceback": [
      "\u001b[0;31m---------------------------------------------------------------------------\u001b[0m",
      "\u001b[0;31mKeyboardInterrupt\u001b[0m                         Traceback (most recent call last)",
      "Cell \u001b[0;32mIn[5], line 30\u001b[0m\n\u001b[1;32m     28\u001b[0m \u001b[38;5;28;01mwhile\u001b[39;00m \u001b[38;5;129;01mnot\u001b[39;00m done:\n\u001b[1;32m     29\u001b[0m     action \u001b[38;5;241m=\u001b[39m epsilon_greedy_action(state, Q_table, epsilon)\n\u001b[0;32m---> 30\u001b[0m     next_state \u001b[38;5;241m=\u001b[39m \u001b[43mnp\u001b[49m\u001b[38;5;241;43m.\u001b[39;49m\u001b[43mrandom\u001b[49m\u001b[38;5;241;43m.\u001b[39;49m\u001b[43mrandint\u001b[49m\u001b[43m(\u001b[49m\u001b[38;5;241;43m0\u001b[39;49m\u001b[43m,\u001b[49m\u001b[43m \u001b[49m\u001b[38;5;241;43m9\u001b[39;49m\u001b[43m)\u001b[49m  \u001b[38;5;66;03m# Simulate next state\u001b[39;00m\n\u001b[1;32m     31\u001b[0m     reward \u001b[38;5;241m=\u001b[39m \u001b[38;5;241m1\u001b[39m \u001b[38;5;28;01mif\u001b[39;00m next_state \u001b[38;5;241m==\u001b[39m \u001b[38;5;124m'\u001b[39m\u001b[38;5;124mwin\u001b[39m\u001b[38;5;124m'\u001b[39m \u001b[38;5;28;01melse\u001b[39;00m \u001b[38;5;241m-\u001b[39m\u001b[38;5;241m1\u001b[39m \u001b[38;5;28;01mif\u001b[39;00m next_state \u001b[38;5;241m==\u001b[39m \u001b[38;5;124m'\u001b[39m\u001b[38;5;124mloss\u001b[39m\u001b[38;5;124m'\u001b[39m \u001b[38;5;28;01melse\u001b[39;00m \u001b[38;5;241m0\u001b[39m  \u001b[38;5;66;03m# Simulate rewards\u001b[39;00m\n\u001b[1;32m     32\u001b[0m     update_q_table(state, action, reward, next_state, Q_table)\n",
      "\u001b[0;31mKeyboardInterrupt\u001b[0m: "
     ]
    }
   ],
   "source": [
    "import numpy as np\n",
    "\n",
    "# Initialize Q-table with zeros for all state-action pairs\n",
    "Q_table = np.zeros((9, 9))  # 9 possible states (board positions) and 9 possible actions\n",
    "\n",
    "# Learning parameters\n",
    "alpha = 0.1  # Learning rate\n",
    "gamma = 0.9  # Discount factor\n",
    "epsilon = 0.1  # Exploration rate\n",
    "\n",
    "# Sample function to select action using epsilon-greedy policy\n",
    "def epsilon_greedy_action(state, Q_table, epsilon):\n",
    "    if np.random.uniform(0, 1) < epsilon:\n",
    "        return np.random.randint(0, 9)  # Random action (explore)\n",
    "    else:\n",
    "        return np.argmax(Q_table[state])  # Best action (exploit)\n",
    "\n",
    "# Update Q-values after each game (simplified example)\n",
    "def update_q_table(state, action, reward, next_state, Q_table):\n",
    "    Q_table[state, action] = Q_table[state, action] + alpha * (\n",
    "        reward + gamma * np.max(Q_table[next_state]) - Q_table[state, action]\n",
    "    )\n",
    "\n",
    "# Example simulation of a game where the agent learns\n",
    "for episode in range(1000):\n",
    "    state = np.random.randint(0, 9)  # Random initial state\n",
    "    done = False\n",
    "    while not done:\n",
    "        action = epsilon_greedy_action(state, Q_table, epsilon)\n",
    "        next_state = np.random.randint(0, 9)  # Simulate next state\n",
    "        reward = 1 if next_state == 'win' else -1 if next_state == 'loss' else 0  # Simulate rewards\n",
    "        update_q_table(state, action, reward, next_state, Q_table)\n",
    "        state = next_state\n",
    "        if reward != 0:\n",
    "            done = True  # End the game if win/loss"
   ]
  },
  {
   "cell_type": "code",
   "execution_count": null,
   "id": "048a38a8-2d3e-4a79-a830-6188ebcd1cab",
   "metadata": {},
   "outputs": [],
   "source": [
    "#coś długo \"mieli\""
   ]
  },
  {
   "cell_type": "code",
   "execution_count": null,
   "id": "7f1e0df2-5d5a-4675-8dd3-dcb9272323ef",
   "metadata": {},
   "outputs": [],
   "source": []
  }
 ],
 "metadata": {
  "kernelspec": {
   "display_name": "Python 3.10 - AzureML",
   "language": "python",
   "name": "python38-azureml"
  },
  "language_info": {
   "codemirror_mode": {
    "name": "ipython",
    "version": 3
   },
   "file_extension": ".py",
   "mimetype": "text/x-python",
   "name": "python",
   "nbconvert_exporter": "python",
   "pygments_lexer": "ipython3",
   "version": "3.10.11"
  }
 },
 "nbformat": 4,
 "nbformat_minor": 5
}
