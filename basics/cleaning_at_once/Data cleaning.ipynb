{
  "cells": [
    {
      "cell_type": "code",
      "source": [
        "import pandas as pd\n",
        "import numpy as np\n",
        "\n",
        "# Create a dummy dataset\n",
        "np.random.seed(0)\n",
        "dummy_data = {\n",
        "    'Feature1': np.random.normal(100, 10, 100).tolist() + [np.nan, 200],  # Normally distributed with an outlier\n",
        "    'Feature2': np.random.randint(0, 100, 102).tolist(),  # Random integers\n",
        "    'Category': ['A', 'B', 'C', 'D'] * 25 + [np.nan, 'A'],  # Categorical with some missing values\n",
        "    'Target': np.random.choice([0, 1], 102).tolist()  # Binary target variable\n",
        "}\n",
        "\n",
        "# Convert the dictionary to a pandas DataFrame\n",
        "df_dummy = pd.DataFrame(dummy_data)\n",
        "\n",
        "# Display the first few rows of the dummy dataset\n",
        "print(df_dummy.head())"
      ],
      "outputs": [
        {
          "output_type": "stream",
          "name": "stdout",
          "text": "     Feature1  Feature2 Category  Target\n0  117.640523        32        A       1\n1  104.001572        70        B       1\n2  109.787380        85        C       0\n3  122.408932        31        D       1\n4  118.675580        13        A       0\n"
        }
      ],
      "execution_count": 28,
      "metadata": {
        "gather": {
          "logged": 1757243405213
        }
      },
      "id": "dc4d371d-74e1-4eed-9950-987bb880e00e"
    },
    {
      "cell_type": "code",
      "source": [
        "def load_data(df):\n",
        "    return df"
      ],
      "outputs": [],
      "execution_count": 29,
      "metadata": {
        "gather": {
          "logged": 1757243408500
        }
      },
      "id": "61f5ff5a-9870-40d5-bf76-7f14992eddfb"
    },
    {
      "cell_type": "code",
      "source": [
        "def handle_missing_values(df):\n",
        "    for column in df.columns:\n",
        "        if df[column].dtype == 'object':  # Categorical column\n",
        "            mode_value = df[column].mode()[0]  # Get the mode\n",
        "            df[column].fillna(mode_value, inplace=True)  # Replace missing values with mode\n",
        "        else:  # Numeric column\n",
        "            median_value = df[column].median()  # Get the median\n",
        "            df[column].fillna(median_value, inplace=True)  # Replace missing values with median\n",
        "    return df  # Return the modified DataFrame"
      ],
      "outputs": [],
      "execution_count": 30,
      "metadata": {
        "gather": {
          "logged": 1757243410709
        }
      },
      "id": "a28567be-0501-4a32-a0b3-b740dbd8fdd1"
    },
    {
      "cell_type": "code",
      "source": [
        "def remove_outliers(df):\n",
        "    z_scores = np.abs(stats.zscore(df.select_dtypes(include=[np.number])))\n",
        "    return df[(z_scores < 3).all(axis=1)]  # Remove rows with any outliers"
      ],
      "outputs": [],
      "execution_count": 31,
      "metadata": {
        "gather": {
          "logged": 1757243413188
        }
      },
      "id": "a8c31e1d-dfb5-43d7-911a-df566bdde30c"
    },
    {
      "cell_type": "code",
      "source": [
        "def scale_data(df):\n",
        "    scaler = StandardScaler()\n",
        "    df[df.select_dtypes(include=[np.number]).columns] = scaler.fit_transform(df.select_dtypes(include=[np.number]))\n",
        "    return df"
      ],
      "outputs": [],
      "execution_count": 32,
      "metadata": {
        "gather": {
          "logged": 1757243416193
        }
      },
      "id": "ce4d4680-94f9-4d8a-bee3-6447f4d73842"
    },
    {
      "cell_type": "code",
      "source": [
        "def encode_categorical(df, categorical_columns):\n",
        "    return pd.get_dummies(df, columns=categorical_columns)"
      ],
      "outputs": [],
      "execution_count": 33,
      "metadata": {
        "gather": {
          "logged": 1757243418530
        }
      },
      "id": "0fffe14d-e433-4409-b638-15b04b71af00"
    },
    {
      "cell_type": "code",
      "source": [
        "def save_data(df, output_filepath):\n",
        "    df.to_csv(output_filepath, index=False)"
      ],
      "outputs": [],
      "execution_count": 13,
      "metadata": {},
      "id": "57703606-f94c-4355-adca-0764826be762"
    },
    {
      "cell_type": "code",
      "source": [
        "# Load the data\n",
        "df_preprocessed = load_data(df_dummy)\n",
        "\n",
        "# Handle missing values\n",
        "df_preprocessed = handle_missing_values(df_preprocessed)\n",
        "\n",
        "# Remove outliers\n",
        "df_preprocessed = remove_outliers(df_preprocessed)\n",
        "\n",
        "# Scale the data\n",
        "df_preprocessed = scale_data(df_preprocessed)\n",
        "\n",
        "# Encode categorical variables\n",
        "df_preprocessed = encode_categorical(df_preprocessed, ['Category'])\n",
        "\n",
        "# Display the preprocessed data\n",
        "print(df_preprocessed.head())"
      ],
      "outputs": [
        {
          "output_type": "error",
          "ename": "NameError",
          "evalue": "name 'stats' is not defined",
          "traceback": [
            "\u001b[0;31m---------------------------------------------------------------------------\u001b[0m",
            "\u001b[0;31mNameError\u001b[0m                                 Traceback (most recent call last)",
            "Cell \u001b[0;32mIn[23], line 8\u001b[0m\n\u001b[1;32m      5\u001b[0m df_preprocessed \u001b[38;5;241m=\u001b[39m handle_missing_values(df_preprocessed)\n\u001b[1;32m      7\u001b[0m \u001b[38;5;66;03m# Remove outliers\u001b[39;00m\n\u001b[0;32m----> 8\u001b[0m df_preprocessed \u001b[38;5;241m=\u001b[39m \u001b[43mremove_outliers\u001b[49m\u001b[43m(\u001b[49m\u001b[43mdf_preprocessed\u001b[49m\u001b[43m)\u001b[49m\n\u001b[1;32m     10\u001b[0m \u001b[38;5;66;03m# Scale the data\u001b[39;00m\n\u001b[1;32m     11\u001b[0m df_preprocessed \u001b[38;5;241m=\u001b[39m scale_data(df_preprocessed)\n",
            "Cell \u001b[0;32mIn[10], line 2\u001b[0m, in \u001b[0;36mremove_outliers\u001b[0;34m(df)\u001b[0m\n\u001b[1;32m      1\u001b[0m \u001b[38;5;28;01mdef\u001b[39;00m\u001b[38;5;250m \u001b[39m\u001b[38;5;21mremove_outliers\u001b[39m(df):\n\u001b[0;32m----> 2\u001b[0m     z_scores \u001b[38;5;241m=\u001b[39m np\u001b[38;5;241m.\u001b[39mabs(\u001b[43mstats\u001b[49m\u001b[38;5;241m.\u001b[39mzscore(df\u001b[38;5;241m.\u001b[39mselect_dtypes(include\u001b[38;5;241m=\u001b[39m[np\u001b[38;5;241m.\u001b[39mnumber])))\n\u001b[1;32m      3\u001b[0m     \u001b[38;5;28;01mreturn\u001b[39;00m df[(z_scores \u001b[38;5;241m<\u001b[39m \u001b[38;5;241m3\u001b[39m)\u001b[38;5;241m.\u001b[39mall(axis\u001b[38;5;241m=\u001b[39m\u001b[38;5;241m1\u001b[39m)]\n",
            "\u001b[0;31mNameError\u001b[0m: name 'stats' is not defined"
          ]
        }
      ],
      "execution_count": 23,
      "metadata": {},
      "id": "7f3f3844-25dd-445c-b1f1-acc366527abf"
    },
    {
      "cell_type": "code",
      "source": [
        "import pandas as pd\n",
        "import numpy as np\n",
        "from sklearn.preprocessing import StandardScaler, MinMaxScaler\n",
        "from scipy import stats"
      ],
      "outputs": [],
      "execution_count": 34,
      "metadata": {
        "gather": {
          "logged": 1757243423251
        }
      },
      "id": "0ef7b222-cd6b-4e49-9eed-bdd09fe57463"
    },
    {
      "cell_type": "code",
      "source": [
        "# Load the data\n",
        "df_preprocessed = load_data(df_dummy)\n",
        "\n",
        "# Handle missing values\n",
        "df_preprocessed = handle_missing_values(df_preprocessed)\n",
        "\n",
        "# Remove outliers\n",
        "df_preprocessed = remove_outliers(df_preprocessed)\n",
        "\n",
        "# Scale the data\n",
        "df_preprocessed = scale_data(df_preprocessed)\n",
        "\n",
        "# Encode categorical variables\n",
        "df_preprocessed = encode_categorical(df_preprocessed, ['Category'])\n",
        "\n",
        "# Display the preprocessed data\n",
        "print(df_preprocessed.head())"
      ],
      "outputs": [
        {
          "output_type": "stream",
          "name": "stderr",
          "text": "/tmp/ipykernel_34798/3160686344.py:3: SettingWithCopyWarning: \nA value is trying to be set on a copy of a slice from a DataFrame.\nTry using .loc[row_indexer,col_indexer] = value instead\n\nSee the caveats in the documentation: https://pandas.pydata.org/pandas-docs/stable/user_guide/indexing.html#returning-a-view-versus-a-copy\n  df[df.select_dtypes(include=[np.number]).columns] = scaler.fit_transform(df.select_dtypes(include=[np.number]))\n"
        }
      ],
      "execution_count": 35,
      "metadata": {
        "gather": {
          "logged": 1757243432453
        }
      },
      "id": "01254ef7-277c-4ffe-a099-d6ac67f010b3"
    },
    {
      "cell_type": "code",
      "source": [
        "# Save the cleaned and preprocessed DataFrame to a CSV file\n",
        "save_data(df_preprocessed, 'preprocessed_dummy_data.csv')\n",
        "\n",
        "print('Preprocessing complete. Preprocessed data saved as preprocessed_dummy_data.csv')"
      ],
      "outputs": [
        {
          "output_type": "stream",
          "name": "stdout",
          "text": "Preprocessing complete. Preprocessed data saved as preprocessed_dummy_data.csv\n"
        }
      ],
      "execution_count": 36,
      "metadata": {
        "gather": {
          "logged": 1757243441211
        }
      },
      "id": "6e373cd8-e7c2-448e-a99f-2540f66e4605"
    },
    {
      "cell_type": "code",
      "source": [
        "print(df_preprocessed.isnull().sum())"
      ],
      "outputs": [
        {
          "output_type": "stream",
          "name": "stdout",
          "text": "Feature1      0\nFeature2      0\nTarget        0\nCategory_A    0\nCategory_B    0\nCategory_C    0\nCategory_D    0\ndtype: int64\n"
        }
      ],
      "execution_count": 37,
      "metadata": {
        "gather": {
          "logged": 1757243444230
        }
      },
      "id": "fda67b6c-6dd3-4444-84c5-8383a8242c22"
    },
    {
      "cell_type": "code",
      "source": [
        "print(df_preprocessed.describe())"
      ],
      "outputs": [
        {
          "output_type": "stream",
          "name": "stdout",
          "text": "           Feature1      Feature2        Target  Category_A  Category_B  \\\ncount  1.010000e+02  1.010000e+02  1.010000e+02  101.000000  101.000000   \nmean  -2.502948e-15 -3.407615e-17 -2.418308e-17    0.257426    0.247525   \nstd    1.004988e+00  1.004988e+00  1.004988e+00    0.439397    0.433727   \nmin   -2.605856e+00 -1.704018e+00 -1.071884e+00    0.000000    0.000000   \n25%   -6.927344e-01 -6.674590e-01 -1.071884e+00    0.000000    0.000000   \n50%    6.107739e-02 -1.861994e-01  9.329364e-01    0.000000    0.000000   \n75%    6.667371e-01  8.503597e-01  9.329364e-01    1.000000    0.000000   \nmax    2.202948e+00  1.886919e+00  9.329364e-01    1.000000    1.000000   \n\n       Category_C  Category_D  \ncount  101.000000  101.000000  \nmean     0.247525    0.247525  \nstd      0.433727    0.433727  \nmin      0.000000    0.000000  \n25%      0.000000    0.000000  \n50%      0.000000    0.000000  \n75%      0.000000    0.000000  \nmax      1.000000    1.000000  \n"
        }
      ],
      "execution_count": 38,
      "metadata": {
        "gather": {
          "logged": 1757243453738
        }
      },
      "id": "48f301d5-a841-4a94-9117-fc194b87aab8"
    },
    {
      "cell_type": "code",
      "source": [
        "print(df_preprocessed.head())"
      ],
      "outputs": [
        {
          "output_type": "stream",
          "name": "stdout",
          "text": "   Feature1  Feature2    Target  Category_A  Category_B  Category_C  \\\n0  1.698707 -0.519379  0.932936           1           0           0   \n1  0.338755  0.887380  0.932936           0           1           0   \n2  0.915663  1.442679 -1.071884           0           0           1   \n3  2.174170 -0.556399  0.932936           0           0           0   \n4  1.801914 -1.222759 -1.071884           1           0           0   \n\n   Category_D  \n0           0  \n1           0  \n2           0  \n3           1  \n4           0  \n"
        }
      ],
      "execution_count": 39,
      "metadata": {
        "gather": {
          "logged": 1757243498217
        }
      },
      "id": "1829a1ed-c0a9-4cc7-9aa5-086af1e1682e"
    },
    {
      "cell_type": "code",
      "source": [
        "print(df_preprocessed.columns)"
      ],
      "outputs": [
        {
          "output_type": "stream",
          "name": "stdout",
          "text": "Index(['Feature1', 'Feature2', 'Target', 'Category_A', 'Category_B',\n       'Category_C', 'Category_D'],\n      dtype='object')\n"
        }
      ],
      "execution_count": 40,
      "metadata": {
        "gather": {
          "logged": 1757243576247
        }
      },
      "id": "3ef07cb2-73a6-489e-a829-297a18ffd73d"
    },
    {
      "cell_type": "code",
      "source": [],
      "outputs": [],
      "execution_count": null,
      "metadata": {},
      "id": "f8236398-81b3-45ab-959d-6748e23250d1"
    }
  ],
  "metadata": {
    "kernelspec": {
      "name": "python38-azureml",
      "language": "python",
      "display_name": "Python 3.10 - AzureML"
    },
    "language_info": {
      "name": "python",
      "version": "3.10.11",
      "mimetype": "text/x-python",
      "codemirror_mode": {
        "name": "ipython",
        "version": 3
      },
      "pygments_lexer": "ipython3",
      "nbconvert_exporter": "python",
      "file_extension": ".py"
    },
    "microsoft": {
      "ms_spell_check": {
        "ms_spell_check_language": "en"
      }
    },
    "kernel_info": {
      "name": "python38-azureml"
    },
    "nteract": {
      "version": "nteract-front-end@1.0.0"
    }
  },
  "nbformat": 4,
  "nbformat_minor": 5
}