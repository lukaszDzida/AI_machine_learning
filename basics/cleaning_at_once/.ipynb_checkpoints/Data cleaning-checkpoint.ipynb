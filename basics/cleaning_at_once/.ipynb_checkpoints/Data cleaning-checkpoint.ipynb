{
 "cells": [
  {
   "cell_type": "code",
   "execution_count": 6,
   "id": "dc4d371d-74e1-4eed-9950-987bb880e00e",
   "metadata": {},
   "outputs": [
    {
     "name": "stdout",
     "output_type": "stream",
     "text": [
      "     Feature1  Feature2 Category  Target\n",
      "0  117.640523        32        A       1\n",
      "1  104.001572        70        B       1\n",
      "2  109.787380        85        C       0\n",
      "3  122.408932        31        D       1\n",
      "4  118.675580        13        A       0\n"
     ]
    }
   ],
   "source": [
    "import pandas as pd\n",
    "import numpy as np\n",
    "\n",
    "# Create a dummy dataset\n",
    "np.random.seed(0)\n",
    "dummy_data = {\n",
    "    'Feature1': np.random.normal(100, 10, 100).tolist() + [np.nan, 200],  # Normally distributed with an outlier\n",
    "    'Feature2': np.random.randint(0, 100, 102).tolist(),  # Random integers\n",
    "    'Category': ['A', 'B', 'C', 'D'] * 25 + [np.nan, 'A'],  # Categorical with some missing values\n",
    "    'Target': np.random.choice([0, 1], 102).tolist()  # Binary target variable\n",
    "}\n",
    "\n",
    "# Convert the dictionary to a pandas DataFrame\n",
    "df_dummy = pd.DataFrame(dummy_data)\n",
    "\n",
    "# Display the first few rows of the dummy dataset\n",
    "print(df_dummy.head())"
   ]
  },
  {
   "cell_type": "code",
   "execution_count": 8,
   "id": "61f5ff5a-9870-40d5-bf76-7f14992eddfb",
   "metadata": {},
   "outputs": [],
   "source": [
    "def load_data(df):\n",
    "    return df"
   ]
  },
  {
   "cell_type": "code",
   "execution_count": 9,
   "id": "a28567be-0501-4a32-a0b3-b740dbd8fdd1",
   "metadata": {},
   "outputs": [],
   "source": [
    "def handle_missing_values(df):\n",
    "    for column in df.columns:\n",
    "        if df[column].dtype == 'object':  # Categorical column\n",
    "            mode_value = df[column].mode()[0]  # Get the mode\n",
    "            df[column].fillna(mode_value, inplace=True)  # Replace missing values with mode\n",
    "        else:  # Numeric column\n",
    "            median_value = df[column].median()  # Get the median\n",
    "            df[column].fillna(median_value, inplace=True)  # Replace missing values with median\n",
    "    return df  # Return the modified DataFrame"
   ]
  },
  {
   "cell_type": "code",
   "execution_count": 10,
   "id": "a8c31e1d-dfb5-43d7-911a-df566bdde30c",
   "metadata": {},
   "outputs": [],
   "source": [
    "def remove_outliers(df):\n",
    "    z_scores = np.abs(stats.zscore(df.select_dtypes(include=[np.number])))\n",
    "    return df[(z_scores < 3).all(axis=1)]  # Remove rows with any outliers"
   ]
  },
  {
   "cell_type": "code",
   "execution_count": 11,
   "id": "ce4d4680-94f9-4d8a-bee3-6447f4d73842",
   "metadata": {},
   "outputs": [],
   "source": [
    "def scale_data(df):\n",
    "    scaler = StandardScaler()\n",
    "    df[df.select_dtypes(include=[np.number]).columns] = scaler.fit_transform(df.select_dtypes(include=[np.number]))\n",
    "    return df"
   ]
  },
  {
   "cell_type": "code",
   "execution_count": 12,
   "id": "0fffe14d-e433-4409-b638-15b04b71af00",
   "metadata": {},
   "outputs": [],
   "source": [
    "def encode_categorical(df, categorical_columns):\n",
    "    return pd.get_dummies(df, columns=categorical_columns)"
   ]
  },
  {
   "cell_type": "code",
   "execution_count": 13,
   "id": "57703606-f94c-4355-adca-0764826be762",
   "metadata": {},
   "outputs": [],
   "source": [
    "def save_data(df, output_filepath):\n",
    "    df.to_csv(output_filepath, index=False)"
   ]
  },
  {
   "cell_type": "code",
   "execution_count": 23,
   "id": "7f3f3844-25dd-445c-b1f1-acc366527abf",
   "metadata": {},
   "outputs": [
    {
     "ename": "NameError",
     "evalue": "name 'stats' is not defined",
     "output_type": "error",
     "traceback": [
      "\u001b[0;31m---------------------------------------------------------------------------\u001b[0m",
      "\u001b[0;31mNameError\u001b[0m                                 Traceback (most recent call last)",
      "Cell \u001b[0;32mIn[23], line 8\u001b[0m\n\u001b[1;32m      5\u001b[0m df_preprocessed \u001b[38;5;241m=\u001b[39m handle_missing_values(df_preprocessed)\n\u001b[1;32m      7\u001b[0m \u001b[38;5;66;03m# Remove outliers\u001b[39;00m\n\u001b[0;32m----> 8\u001b[0m df_preprocessed \u001b[38;5;241m=\u001b[39m \u001b[43mremove_outliers\u001b[49m\u001b[43m(\u001b[49m\u001b[43mdf_preprocessed\u001b[49m\u001b[43m)\u001b[49m\n\u001b[1;32m     10\u001b[0m \u001b[38;5;66;03m# Scale the data\u001b[39;00m\n\u001b[1;32m     11\u001b[0m df_preprocessed \u001b[38;5;241m=\u001b[39m scale_data(df_preprocessed)\n",
      "Cell \u001b[0;32mIn[10], line 2\u001b[0m, in \u001b[0;36mremove_outliers\u001b[0;34m(df)\u001b[0m\n\u001b[1;32m      1\u001b[0m \u001b[38;5;28;01mdef\u001b[39;00m\u001b[38;5;250m \u001b[39m\u001b[38;5;21mremove_outliers\u001b[39m(df):\n\u001b[0;32m----> 2\u001b[0m     z_scores \u001b[38;5;241m=\u001b[39m np\u001b[38;5;241m.\u001b[39mabs(\u001b[43mstats\u001b[49m\u001b[38;5;241m.\u001b[39mzscore(df\u001b[38;5;241m.\u001b[39mselect_dtypes(include\u001b[38;5;241m=\u001b[39m[np\u001b[38;5;241m.\u001b[39mnumber])))\n\u001b[1;32m      3\u001b[0m     \u001b[38;5;28;01mreturn\u001b[39;00m df[(z_scores \u001b[38;5;241m<\u001b[39m \u001b[38;5;241m3\u001b[39m)\u001b[38;5;241m.\u001b[39mall(axis\u001b[38;5;241m=\u001b[39m\u001b[38;5;241m1\u001b[39m)]\n",
      "\u001b[0;31mNameError\u001b[0m: name 'stats' is not defined"
     ]
    }
   ],
   "source": [
    "# Load the data\n",
    "df_preprocessed = load_data(df_dummy)\n",
    "\n",
    "# Handle missing values\n",
    "df_preprocessed = handle_missing_values(df_preprocessed)\n",
    "\n",
    "# Remove outliers\n",
    "df_preprocessed = remove_outliers(df_preprocessed)\n",
    "\n",
    "# Scale the data\n",
    "df_preprocessed = scale_data(df_preprocessed)\n",
    "\n",
    "# Encode categorical variables\n",
    "df_preprocessed = encode_categorical(df_preprocessed, ['Category'])\n",
    "\n",
    "# Display the preprocessed data\n",
    "print(df_preprocessed.head())"
   ]
  },
  {
   "cell_type": "code",
   "execution_count": 24,
   "id": "0ef7b222-cd6b-4e49-9eed-bdd09fe57463",
   "metadata": {},
   "outputs": [],
   "source": [
    "import pandas as pd\n",
    "import numpy as np\n",
    "from sklearn.preprocessing import StandardScaler, MinMaxScaler\n",
    "from scipy import stats"
   ]
  },
  {
   "cell_type": "code",
   "execution_count": 25,
   "id": "01254ef7-277c-4ffe-a099-d6ac67f010b3",
   "metadata": {},
   "outputs": [
    {
     "name": "stdout",
     "output_type": "stream",
     "text": [
      "   Feature1  Feature2    Target  Category_A  Category_B  Category_C  \\\n",
      "0  1.698707 -0.519379  0.932936           1           0           0   \n",
      "1  0.338755  0.887380  0.932936           0           1           0   \n",
      "2  0.915663  1.442679 -1.071884           0           0           1   \n",
      "3  2.174170 -0.556399  0.932936           0           0           0   \n",
      "4  1.801914 -1.222759 -1.071884           1           0           0   \n",
      "\n",
      "   Category_D  \n",
      "0           0  \n",
      "1           0  \n",
      "2           0  \n",
      "3           1  \n",
      "4           0  \n"
     ]
    },
    {
     "name": "stderr",
     "output_type": "stream",
     "text": [
      "/tmp/ipykernel_34798/3160686344.py:3: SettingWithCopyWarning: \n",
      "A value is trying to be set on a copy of a slice from a DataFrame.\n",
      "Try using .loc[row_indexer,col_indexer] = value instead\n",
      "\n",
      "See the caveats in the documentation: https://pandas.pydata.org/pandas-docs/stable/user_guide/indexing.html#returning-a-view-versus-a-copy\n",
      "  df[df.select_dtypes(include=[np.number]).columns] = scaler.fit_transform(df.select_dtypes(include=[np.number]))\n"
     ]
    }
   ],
   "source": [
    "# Load the data\n",
    "df_preprocessed = load_data(df_dummy)\n",
    "\n",
    "# Handle missing values\n",
    "df_preprocessed = handle_missing_values(df_preprocessed)\n",
    "\n",
    "# Remove outliers\n",
    "df_preprocessed = remove_outliers(df_preprocessed)\n",
    "\n",
    "# Scale the data\n",
    "df_preprocessed = scale_data(df_preprocessed)\n",
    "\n",
    "# Encode categorical variables\n",
    "df_preprocessed = encode_categorical(df_preprocessed, ['Category'])\n",
    "\n",
    "# Display the preprocessed data\n",
    "print(df_preprocessed.head())"
   ]
  },
  {
   "cell_type": "code",
   "execution_count": 26,
   "id": "6e373cd8-e7c2-448e-a99f-2540f66e4605",
   "metadata": {},
   "outputs": [
    {
     "name": "stdout",
     "output_type": "stream",
     "text": [
      "Preprocessing complete. Preprocessed data saved as preprocessed_dummy_data.csv\n"
     ]
    }
   ],
   "source": [
    "# Save the cleaned and preprocessed DataFrame to a CSV file\n",
    "save_data(df_preprocessed, 'preprocessed_dummy_data.csv')\n",
    "\n",
    "print('Preprocessing complete. Preprocessed data saved as preprocessed_dummy_data.csv')"
   ]
  },
  {
   "cell_type": "code",
   "execution_count": 27,
   "id": "fda67b6c-6dd3-4444-84c5-8383a8242c22",
   "metadata": {},
   "outputs": [
    {
     "name": "stdout",
     "output_type": "stream",
     "text": [
      "Feature1      0\n",
      "Feature2      0\n",
      "Target        0\n",
      "Category_A    0\n",
      "Category_B    0\n",
      "Category_C    0\n",
      "Category_D    0\n",
      "dtype: int64\n"
     ]
    }
   ],
   "source": [
    "print(df_preprocessed.isnull().sum())"
   ]
  },
  {
   "cell_type": "code",
   "execution_count": null,
   "id": "48f301d5-a841-4a94-9117-fc194b87aab8",
   "metadata": {},
   "outputs": [],
   "source": []
  }
 ],
 "metadata": {
  "kernelspec": {
   "display_name": "Python 3.10 - AzureML",
   "language": "python",
   "name": "python38-azureml"
  },
  "language_info": {
   "codemirror_mode": {
    "name": "ipython",
    "version": 3
   },
   "file_extension": ".py",
   "mimetype": "text/x-python",
   "name": "python",
   "nbconvert_exporter": "python",
   "pygments_lexer": "ipython3",
   "version": "3.10.11"
  }
 },
 "nbformat": 4,
 "nbformat_minor": 5
}
