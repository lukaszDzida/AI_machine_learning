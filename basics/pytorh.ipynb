{
 "cells": [
  {
   "cell_type": "code",
   "execution_count": 1,
   "id": "fb0d55ab-bb6d-4721-bf19-08afa4829260",
   "metadata": {},
   "outputs": [
    {
     "name": "stdout",
     "output_type": "stream",
     "text": [
      "Requirement already satisfied: torch in /anaconda/envs/azureml_py38/lib/python3.10/site-packages (2.7.1)\n",
      "Requirement already satisfied: torchvision in /anaconda/envs/azureml_py38/lib/python3.10/site-packages (0.22.1)\n",
      "Requirement already satisfied: filelock in /anaconda/envs/azureml_py38/lib/python3.10/site-packages (from torch) (3.18.0)\n",
      "Requirement already satisfied: fsspec in /anaconda/envs/azureml_py38/lib/python3.10/site-packages (from torch) (2023.10.0)\n",
      "Requirement already satisfied: jinja2 in /anaconda/envs/azureml_py38/lib/python3.10/site-packages (from torch) (3.1.6)\n",
      "Requirement already satisfied: nvidia-nvjitlink-cu12==12.6.85 in /anaconda/envs/azureml_py38/lib/python3.10/site-packages (from torch) (12.6.85)\n",
      "Requirement already satisfied: nvidia-nvtx-cu12==12.6.77 in /anaconda/envs/azureml_py38/lib/python3.10/site-packages (from torch) (12.6.77)\n",
      "Requirement already satisfied: nvidia-cublas-cu12==12.6.4.1 in /anaconda/envs/azureml_py38/lib/python3.10/site-packages (from torch) (12.6.4.1)\n",
      "Requirement already satisfied: nvidia-cudnn-cu12==9.5.1.17 in /anaconda/envs/azureml_py38/lib/python3.10/site-packages (from torch) (9.5.1.17)\n",
      "Requirement already satisfied: nvidia-cuda-cupti-cu12==12.6.80 in /anaconda/envs/azureml_py38/lib/python3.10/site-packages (from torch) (12.6.80)\n",
      "Requirement already satisfied: sympy>=1.13.3 in /anaconda/envs/azureml_py38/lib/python3.10/site-packages (from torch) (1.13.3)\n",
      "Requirement already satisfied: networkx in /anaconda/envs/azureml_py38/lib/python3.10/site-packages (from torch) (3.4.2)\n",
      "Requirement already satisfied: nvidia-cusparse-cu12==12.5.4.2 in /anaconda/envs/azureml_py38/lib/python3.10/site-packages (from torch) (12.5.4.2)\n",
      "Requirement already satisfied: nvidia-cusolver-cu12==11.7.1.2 in /anaconda/envs/azureml_py38/lib/python3.10/site-packages (from torch) (11.7.1.2)\n",
      "Requirement already satisfied: typing-extensions>=4.10.0 in /anaconda/envs/azureml_py38/lib/python3.10/site-packages (from torch) (4.14.1)\n",
      "Requirement already satisfied: nvidia-cuda-runtime-cu12==12.6.77 in /anaconda/envs/azureml_py38/lib/python3.10/site-packages (from torch) (12.6.77)\n",
      "Requirement already satisfied: nvidia-curand-cu12==10.3.7.77 in /anaconda/envs/azureml_py38/lib/python3.10/site-packages (from torch) (10.3.7.77)\n",
      "Requirement already satisfied: nvidia-cufile-cu12==1.11.1.6 in /anaconda/envs/azureml_py38/lib/python3.10/site-packages (from torch) (1.11.1.6)\n",
      "Requirement already satisfied: nvidia-cusparselt-cu12==0.6.3 in /anaconda/envs/azureml_py38/lib/python3.10/site-packages (from torch) (0.6.3)\n",
      "Requirement already satisfied: triton==3.3.1 in /anaconda/envs/azureml_py38/lib/python3.10/site-packages (from torch) (3.3.1)\n",
      "Requirement already satisfied: nvidia-nccl-cu12==2.26.2 in /anaconda/envs/azureml_py38/lib/python3.10/site-packages (from torch) (2.26.2)\n",
      "Requirement already satisfied: nvidia-cuda-nvrtc-cu12==12.6.77 in /anaconda/envs/azureml_py38/lib/python3.10/site-packages (from torch) (12.6.77)\n",
      "Requirement already satisfied: nvidia-cufft-cu12==11.3.0.4 in /anaconda/envs/azureml_py38/lib/python3.10/site-packages (from torch) (11.3.0.4)\n",
      "Requirement already satisfied: setuptools>=40.8.0 in /anaconda/envs/azureml_py38/lib/python3.10/site-packages (from triton==3.3.1->torch) (75.8.0)\n",
      "Requirement already satisfied: numpy in /anaconda/envs/azureml_py38/lib/python3.10/site-packages (from torchvision) (2.1.3)\n",
      "Requirement already satisfied: pillow!=8.3.*,>=5.3.0 in /anaconda/envs/azureml_py38/lib/python3.10/site-packages (from torchvision) (9.2.0)\n",
      "Requirement already satisfied: mpmath<1.4,>=1.1.0 in /anaconda/envs/azureml_py38/lib/python3.10/site-packages (from sympy>=1.13.3->torch) (1.3.0)\n",
      "Requirement already satisfied: MarkupSafe>=2.0 in /anaconda/envs/azureml_py38/lib/python3.10/site-packages (from jinja2->torch) (3.0.2)\n"
     ]
    }
   ],
   "source": [
    "!pip install torch torchvision"
   ]
  },
  {
   "cell_type": "code",
   "execution_count": 2,
   "id": "7fc35493-3b90-4279-bd7d-4cb2c0b58393",
   "metadata": {},
   "outputs": [
    {
     "name": "stderr",
     "output_type": "stream",
     "text": [
      "100%|██████████| 170M/170M [00:01<00:00, 96.1MB/s] \n"
     ]
    }
   ],
   "source": [
    "import torch\n",
    "import torchvision\n",
    "import torchvision.transforms as transforms\n",
    "\n",
    "transform = transforms.Compose([transforms.ToTensor(), transforms.Normalize((0.5, 0.5, 0.5), (0.5, 0.5, 0.5))])\n",
    "\n",
    "trainset = torchvision.datasets.CIFAR10(root='./data', train=True, download=True, transform=transform)\n",
    "trainloader = torch.utils.data.DataLoader(trainset, batch_size=4, shuffle=True, num_workers=2)\n",
    "\n",
    "testset = torchvision.datasets.CIFAR10(root='./data', train=False, download=True, transform=transform)\n",
    "testloader = torch.utils.data.DataLoader(testset, batch_size=4, shuffle=False, num_workers=2)"
   ]
  },
  {
   "cell_type": "code",
   "execution_count": 3,
   "id": "ef0e484c-5c25-4414-9287-34de62a8f880",
   "metadata": {},
   "outputs": [],
   "source": [
    "import torch.nn as nn\n",
    "import torch.nn.functional as F\n",
    "\n",
    "class Net(nn.Module):\n",
    "    def __init__(self):\n",
    "        super(Net, self).__init__()\n",
    "        self.conv1 = nn.Conv2d(3, 6, 5)\n",
    "        self.pool = nn.MaxPool2d(2, 2)\n",
    "        self.conv2 = nn.Conv2d(6, 16, 5)\n",
    "        self.fc1 = nn.Linear(16 * 5 * 5, 120)\n",
    "        self.fc2 = nn.Linear(120, 84)\n",
    "        self.fc3 = nn.Linear(84, 10)\n",
    "\n",
    "    def forward(self, x):\n",
    "        x = self.pool(F.relu(self.conv1(x)))\n",
    "        x = self.pool(F.relu(self.conv2(x)))\n",
    "        x = x.view(-1, 16 * 5 * 5)\n",
    "        x = F.relu(self.fc1(x))\n",
    "        x = F.relu(self.fc2(x))\n",
    "        x = self.fc3(x)\n",
    "        return x\n",
    "\n",
    "net = Net()"
   ]
  },
  {
   "cell_type": "code",
   "execution_count": 4,
   "id": "a0ce0ca2-e868-4bca-b88c-4c361ff0f432",
   "metadata": {},
   "outputs": [
    {
     "name": "stdout",
     "output_type": "stream",
     "text": [
      "[Epoch 1, Batch 2000] loss: 2.231\n",
      "[Epoch 1, Batch 4000] loss: 1.859\n",
      "[Epoch 1, Batch 6000] loss: 1.693\n",
      "[Epoch 1, Batch 8000] loss: 1.579\n",
      "[Epoch 1, Batch 10000] loss: 1.532\n",
      "[Epoch 1, Batch 12000] loss: 1.474\n",
      "[Epoch 2, Batch 2000] loss: 1.421\n",
      "[Epoch 2, Batch 4000] loss: 1.389\n",
      "[Epoch 2, Batch 6000] loss: 1.346\n",
      "[Epoch 2, Batch 8000] loss: 1.356\n",
      "[Epoch 2, Batch 10000] loss: 1.333\n",
      "[Epoch 2, Batch 12000] loss: 1.308\n",
      "[Epoch 3, Batch 2000] loss: 1.232\n",
      "[Epoch 3, Batch 4000] loss: 1.215\n",
      "[Epoch 3, Batch 6000] loss: 1.240\n",
      "[Epoch 3, Batch 8000] loss: 1.215\n",
      "[Epoch 3, Batch 10000] loss: 1.210\n",
      "[Epoch 3, Batch 12000] loss: 1.204\n",
      "[Epoch 4, Batch 2000] loss: 1.099\n",
      "[Epoch 4, Batch 4000] loss: 1.134\n",
      "[Epoch 4, Batch 6000] loss: 1.134\n",
      "[Epoch 4, Batch 8000] loss: 1.125\n",
      "[Epoch 4, Batch 10000] loss: 1.156\n",
      "[Epoch 4, Batch 12000] loss: 1.101\n",
      "[Epoch 5, Batch 2000] loss: 1.047\n",
      "[Epoch 5, Batch 4000] loss: 1.060\n",
      "[Epoch 5, Batch 6000] loss: 1.047\n",
      "[Epoch 5, Batch 8000] loss: 1.064\n",
      "[Epoch 5, Batch 10000] loss: 1.057\n",
      "[Epoch 5, Batch 12000] loss: 1.061\n",
      "[Epoch 6, Batch 2000] loss: 0.968\n",
      "[Epoch 6, Batch 4000] loss: 0.971\n",
      "[Epoch 6, Batch 6000] loss: 1.013\n",
      "[Epoch 6, Batch 8000] loss: 1.029\n",
      "[Epoch 6, Batch 10000] loss: 1.020\n",
      "[Epoch 6, Batch 12000] loss: 1.011\n",
      "[Epoch 7, Batch 2000] loss: 0.934\n",
      "[Epoch 7, Batch 4000] loss: 0.933\n",
      "[Epoch 7, Batch 6000] loss: 0.954\n",
      "[Epoch 7, Batch 8000] loss: 0.968\n",
      "[Epoch 7, Batch 10000] loss: 0.964\n",
      "[Epoch 7, Batch 12000] loss: 0.975\n",
      "[Epoch 8, Batch 2000] loss: 0.882\n",
      "[Epoch 8, Batch 4000] loss: 0.903\n",
      "[Epoch 8, Batch 6000] loss: 0.919\n",
      "[Epoch 8, Batch 8000] loss: 0.916\n",
      "[Epoch 8, Batch 10000] loss: 0.922\n",
      "[Epoch 8, Batch 12000] loss: 0.926\n",
      "[Epoch 9, Batch 2000] loss: 0.831\n",
      "[Epoch 9, Batch 4000] loss: 0.861\n",
      "[Epoch 9, Batch 6000] loss: 0.888\n",
      "[Epoch 9, Batch 8000] loss: 0.889\n",
      "[Epoch 9, Batch 10000] loss: 0.910\n",
      "[Epoch 9, Batch 12000] loss: 0.913\n",
      "[Epoch 10, Batch 2000] loss: 0.793\n",
      "[Epoch 10, Batch 4000] loss: 0.808\n",
      "[Epoch 10, Batch 6000] loss: 0.859\n",
      "[Epoch 10, Batch 8000] loss: 0.854\n",
      "[Epoch 10, Batch 10000] loss: 0.895\n",
      "[Epoch 10, Batch 12000] loss: 0.869\n",
      "Finished Training\n"
     ]
    }
   ],
   "source": [
    "import torch.optim as optim\n",
    "\n",
    "criterion = nn.CrossEntropyLoss()\n",
    "optimizer = optim.SGD(net.parameters(), lr=0.001, momentum=0.9)\n",
    "\n",
    "for epoch in range(10):  # loop over the dataset multiple times\n",
    "    running_loss = 0.0\n",
    "    for i, data in enumerate(trainloader, 0):\n",
    "        inputs, labels = data\n",
    "        optimizer.zero_grad()  # zero the parameter gradients\n",
    "        outputs = net(inputs)\n",
    "        loss = criterion(outputs, labels)\n",
    "        loss.backward()\n",
    "        optimizer.step()\n",
    "        running_loss += loss.item()\n",
    "        if i % 2000 == 1999:\n",
    "            print(f'[Epoch {epoch + 1}, Batch {i + 1}] loss: {running_loss / 2000:.3f}')\n",
    "            running_loss = 0.0\n",
    "\n",
    "print('Finished Training')"
   ]
  },
  {
   "cell_type": "code",
   "execution_count": 5,
   "id": "5efaea83-fc13-458c-afc1-e78b93861717",
   "metadata": {},
   "outputs": [
    {
     "name": "stdout",
     "output_type": "stream",
     "text": [
      "Accuracy of the network on the 10000 test images: 61.57 %\n"
     ]
    }
   ],
   "source": [
    "correct = 0\n",
    "total = 0\n",
    "with torch.no_grad():\n",
    "    for data in testloader:\n",
    "        images, labels = data\n",
    "        outputs = net(images)\n",
    "        _, predicted = torch.max(outputs.data, 1)\n",
    "        total += labels.size(0)\n",
    "        correct += (predicted == labels).sum().item()\n",
    "\n",
    "print(f'Accuracy of the network on the 10000 test images: {100 * correct / total} %')"
   ]
  },
  {
   "cell_type": "code",
   "execution_count": null,
   "id": "f518cd3a-99cc-4964-acbd-59c27a480a8b",
   "metadata": {},
   "outputs": [],
   "source": []
  }
 ],
 "metadata": {
  "kernelspec": {
   "display_name": "Python 3.10 - Pytorch and Tensorflow",
   "language": "python",
   "name": "python38-azureml-pt-tf"
  },
  "language_info": {
   "codemirror_mode": {
    "name": "ipython",
    "version": 3
   },
   "file_extension": ".py",
   "mimetype": "text/x-python",
   "name": "python",
   "nbconvert_exporter": "python",
   "pygments_lexer": "ipython3",
   "version": "3.10.16"
  }
 },
 "nbformat": 4,
 "nbformat_minor": 5
}
