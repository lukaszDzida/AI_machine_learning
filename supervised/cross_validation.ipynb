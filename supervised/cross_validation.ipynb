{
 "cells": [
  {
   "cell_type": "code",
   "execution_count": 1,
   "id": "92eaf2a1-aa31-4235-85eb-3a2bac4600ab",
   "metadata": {},
   "outputs": [
    {
     "name": "stdout",
     "output_type": "stream",
     "text": [
      "Requirement already satisfied: numpy in /anaconda/envs/azureml_py38/lib/python3.10/site-packages (1.26.4)\n",
      "Requirement already satisfied: pandas in /anaconda/envs/azureml_py38/lib/python3.10/site-packages (1.5.3)\n",
      "Requirement already satisfied: scikit-learn in /anaconda/envs/azureml_py38/lib/python3.10/site-packages (1.5.1)\n",
      "Requirement already satisfied: pytz>=2020.1 in /anaconda/envs/azureml_py38/lib/python3.10/site-packages (from pandas) (2022.5)\n",
      "Requirement already satisfied: python-dateutil>=2.8.1 in /anaconda/envs/azureml_py38/lib/python3.10/site-packages (from pandas) (2.9.0.post0)\n",
      "Requirement already satisfied: joblib>=1.2.0 in /anaconda/envs/azureml_py38/lib/python3.10/site-packages (from scikit-learn) (1.2.0)\n",
      "Requirement already satisfied: threadpoolctl>=3.1.0 in /anaconda/envs/azureml_py38/lib/python3.10/site-packages (from scikit-learn) (3.6.0)\n",
      "Requirement already satisfied: scipy>=1.6.0 in /anaconda/envs/azureml_py38/lib/python3.10/site-packages (from scikit-learn) (1.11.0)\n",
      "Requirement already satisfied: six>=1.5 in /anaconda/envs/azureml_py38/lib/python3.10/site-packages (from python-dateutil>=2.8.1->pandas) (1.17.0)\n",
      "Note: you may need to restart the kernel to use updated packages.\n"
     ]
    }
   ],
   "source": [
    "pip install numpy pandas scikit-learn"
   ]
  },
  {
   "cell_type": "code",
   "execution_count": 14,
   "id": "b43850b4-0ee4-4d44-a56d-df55394e3cd7",
   "metadata": {},
   "outputs": [],
   "source": [
    "import numpy as np\n",
    "import pandas as pd\n",
    "from sklearn.model_selection import train_test_split, cross_val_score, KFold, GridSearchCV\n",
    "from sklearn.linear_model import LogisticRegression, LinearRegression\n",
    "from sklearn.tree import DecisionTreeClassifier\n",
    "from sklearn.metrics import accuracy_score, precision_score, recall_score, f1_score, r2_score, mean_absolute_error"
   ]
  },
  {
   "cell_type": "code",
   "execution_count": 15,
   "id": "50024d31-5590-4517-a94d-ec0cacea5ae6",
   "metadata": {},
   "outputs": [],
   "source": [
    "# Sample dataset: Study hours, previous exam scores, and pass/fail labels\n",
    "data = {\n",
    "    'StudyHours': [1, 2, 3, 4, 5, 6, 7, 8, 9, 10],\n",
    "    'PrevExamScore': [30, 40, 45, 50, 60, 65, 70, 75, 80, 85],\n",
    "    'Pass': [0, 0, 0, 0, 0, 1, 1, 1, 1, 1]  # 0 = Fail, 1 = Pass\n",
    "}\n",
    "\n",
    "df = pd.DataFrame(data)\n",
    "\n",
    "# Features and target variable\n",
    "X = df[['StudyHours', 'PrevExamScore']]\n",
    "y = df['Pass']"
   ]
  },
  {
   "cell_type": "code",
   "execution_count": 4,
   "id": "be143847-3106-477d-9347-142edd2236a0",
   "metadata": {},
   "outputs": [],
   "source": [
    "from sklearn.linear_model import LogisticRegression\n",
    "\n",
    "# Split the data into training and testing sets (80% training, 20% testing)\n",
    "X_train, X_test, y_train, y_test = train_test_split(X, y, test_size=0.2, random_state=42)\n",
    "\n",
    "# Initialize and train the Logistic Regression model\n",
    "model = LogisticRegression()\n",
    "model.fit(X_train, y_train)\n",
    "\n",
    "# Make predictions on the test set\n",
    "y_pred = model.predict(X_test)"
   ]
  },
  {
   "cell_type": "code",
   "execution_count": 5,
   "id": "785fc710-e113-4fac-b86b-d151571ed80b",
   "metadata": {},
   "outputs": [
    {
     "name": "stdout",
     "output_type": "stream",
     "text": [
      "Accuracy: 1.0\n",
      "Precision: 1.0\n",
      "Recall: 1.0\n",
      "F1-Score: 1.0\n"
     ]
    }
   ],
   "source": [
    "# Calculate metrics\n",
    "accuracy = accuracy_score(y_test, y_pred)\n",
    "precision = precision_score(y_test, y_pred)\n",
    "recall = recall_score(y_test, y_pred)\n",
    "f1 = f1_score(y_test, y_pred)\n",
    "\n",
    "print(f'Accuracy: {accuracy}')\n",
    "print(f'Precision: {precision}')\n",
    "print(f'Recall: {recall}')\n",
    "print(f'F1-Score: {f1}')"
   ]
  },
  {
   "cell_type": "code",
   "execution_count": 6,
   "id": "82143e2b-606f-4c53-83e5-a1dd45f1adf6",
   "metadata": {},
   "outputs": [
    {
     "name": "stdout",
     "output_type": "stream",
     "text": [
      "Cross-validation accuracies: [1.  1.  1.  1.  0.5]\n",
      "Mean cross-validation accuracy: 0.9\n"
     ]
    }
   ],
   "source": [
    "from sklearn.model_selection import cross_val_score\n",
    "\n",
    "# Initialize the model\n",
    "model = LogisticRegression()\n",
    "\n",
    "# Perform 5-fold cross-validation and calculate accuracy for each fold\n",
    "cv_scores = cross_val_score(model, X, y, cv=5, scoring='accuracy')\n",
    "\n",
    "# Display the accuracy for each fold and the mean accuracy\n",
    "print(f'Cross-validation accuracies: {cv_scores}')\n",
    "print(f'Mean cross-validation accuracy: {np.mean(cv_scores)}')"
   ]
  },
  {
   "cell_type": "code",
   "execution_count": 7,
   "id": "59bd3258-269c-412d-80da-a7aa4d9f1d9f",
   "metadata": {},
   "outputs": [
    {
     "name": "stdout",
     "output_type": "stream",
     "text": [
      "Cross-validation Accuracy: 0.9\n",
      "Cross-validation Precision: 0.9\n",
      "Cross-validation Recall: 1.0\n",
      "Cross-validation F1-Score: 0.9333333333333333\n"
     ]
    }
   ],
   "source": [
    "from sklearn.model_selection import cross_validate\n",
    "\n",
    "# Define multiple scoring metrics\n",
    "scoring = ['accuracy', 'precision', 'recall', 'f1']\n",
    "\n",
    "# Perform cross-validation\n",
    "cv_results = cross_validate(model, X, y, cv=5, scoring=scoring)\n",
    "\n",
    "# Print results for each metric\n",
    "print(f\"Cross-validation Accuracy: {np.mean(cv_results['test_accuracy'])}\")\n",
    "print(f\"Cross-validation Precision: {np.mean(cv_results['test_precision'])}\")\n",
    "print(f\"Cross-validation Recall: {np.mean(cv_results['test_recall'])}\")\n",
    "print(f\"Cross-validation F1-Score: {np.mean(cv_results['test_f1'])}\")"
   ]
  },
  {
   "cell_type": "code",
   "execution_count": 8,
   "id": "e51866cb-7646-46db-a895-93a13304120e",
   "metadata": {},
   "outputs": [
    {
     "data": {
      "text/plain": [
       "{'fit_time': array([0.00753856, 0.00543308, 0.00402713, 0.00410032, 0.00406027]),\n",
       " 'score_time': array([0.00898361, 0.00630569, 0.00582743, 0.00587177, 0.00588608]),\n",
       " 'test_accuracy': array([1. , 1. , 1. , 1. , 0.5]),\n",
       " 'test_precision': array([1. , 1. , 1. , 1. , 0.5]),\n",
       " 'test_recall': array([1., 1., 1., 1., 1.]),\n",
       " 'test_f1': array([1.        , 1.        , 1.        , 1.        , 0.66666667])}"
      ]
     },
     "execution_count": 8,
     "metadata": {},
     "output_type": "execute_result"
    }
   ],
   "source": [
    "cv_results"
   ]
  },
  {
   "cell_type": "code",
   "execution_count": 13,
   "id": "d64c0659-7ab7-4b30-bf23-6fb5e444042f",
   "metadata": {},
   "outputs": [
    {
     "name": "stdout",
     "output_type": "stream",
     "text": [
      "Cross-validation R-squared scores: [ 0.52933673  0.88503086 -0.60298929  0.88503086 -1.28939909]\n",
      "Mean R-squared score: 0.08140201560607148\n"
     ]
    }
   ],
   "source": [
    "from sklearn.linear_model import LinearRegression\n",
    "from sklearn.metrics import mean_squared_error, mean_absolute_error, r2_score\n",
    "\n",
    "# Sample dataset for regression\n",
    "X_reg = df[['StudyHours']]\n",
    "y_reg = df['PrevExamScore']\n",
    "\n",
    "# Initialize a linear regression model\n",
    "reg_model = LinearRegression()\n",
    "\n",
    "# Perform 5-fold cross-validation using R-squared as the metric\n",
    "cv_scores_r2 = cross_val_score(reg_model, X_reg, y_reg, cv=5, scoring='r2')\n",
    "\n",
    "print(f'Cross-validation R-squared scores: {cv_scores_r2}')\n",
    "print(f'Mean R-squared score: {np.mean(cv_scores_r2)}')"
   ]
  },
  {
   "cell_type": "code",
   "execution_count": 17,
   "id": "e7403fdc-66db-4cfe-885c-917d67673cde",
   "metadata": {},
   "outputs": [
    {
     "name": "stdout",
     "output_type": "stream",
     "text": [
      "Cross-validation R-squered scores:[1. 1. 1. 1. 1.]\n",
      "Mean R-squared score: 1.0\n"
     ]
    }
   ],
   "source": [
    "#------------------------------------------------------------------------------------------\n",
    "#Sample data: features and target for regression\n",
    "X_reg = [[1], [2], [3], [4], [5], [6], [7], [8], [9], [10]]\n",
    "y_reg = [30, 35, 40, 45, 50, 55, 60, 65, 70, 75]\n",
    "\n",
    "reg_model = LinearRegression()\n",
    "\n",
    "cv_scores_r2 = cross_val_score(reg_model, X_reg, y_reg, cv = 5, scoring = 'r2')\n",
    "\n",
    "print(f'Cross-validation R-squered scores:{cv_scores_r2}')\n",
    "print(f'Mean R-squared score: {np.mean(cv_scores_r2)}')"
   ]
  },
  {
   "cell_type": "code",
   "execution_count": 16,
   "id": "13b83734-acdb-4f18-a8e6-544c3aa707bc",
   "metadata": {},
   "outputs": [
    {
     "name": "stdout",
     "output_type": "stream",
     "text": [
      "Best parameters: {'max_depth': 2}\n",
      "Best cross-validation accuracy: 0.9\n"
     ]
    }
   ],
   "source": [
    "#initialize the decission tree model\n",
    "tree_model = DecisionTreeClassifier()\n",
    "\n",
    "#define parameters to tune (f.e. depth)\n",
    "param_grid = {\"max_depth\": [2,3,4,5]}\n",
    "\n",
    "#perform grid-search with cross-validation\n",
    "grid_search = GridSearchCV(tree_model, param_grid, cv=5, scoring='accuracy')\n",
    "grid_search.fit(X, y)\n",
    "\n",
    "print(f'Best parameters: {grid_search.best_params_}')\n",
    "print(f'Best cross-validation accuracy: {grid_search.best_score_}')"
   ]
  },
  {
   "cell_type": "code",
   "execution_count": null,
   "id": "580d50f6-c201-45eb-94bd-e7b4a6189835",
   "metadata": {},
   "outputs": [],
   "source": []
  }
 ],
 "metadata": {
  "kernelspec": {
   "display_name": "Python 3.10 - AzureML",
   "language": "python",
   "name": "python38-azureml"
  },
  "language_info": {
   "codemirror_mode": {
    "name": "ipython",
    "version": 3
   },
   "file_extension": ".py",
   "mimetype": "text/x-python",
   "name": "python",
   "nbconvert_exporter": "python",
   "pygments_lexer": "ipython3",
   "version": "3.10.11"
  }
 },
 "nbformat": 4,
 "nbformat_minor": 5
}
